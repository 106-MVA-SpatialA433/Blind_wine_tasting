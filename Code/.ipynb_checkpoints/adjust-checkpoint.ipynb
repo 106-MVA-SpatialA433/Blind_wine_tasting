{
 "cells": [
  {
   "cell_type": "code",
   "execution_count": 2,
   "metadata": {
    "ExecuteTime": {
     "end_time": "2019-06-03T08:59:27.439678Z",
     "start_time": "2019-06-03T08:59:27.433867Z"
    }
   },
   "outputs": [
    {
     "name": "stdout",
     "output_type": "stream",
     "text": [
      "Overwriting preprocessing.py\n"
     ]
    }
   ],
   "source": [
    "%%writefile preprocessing.py\n",
    "\n",
    "import pandas as pd\n",
    "from config import *\n",
    "\n",
    "from sklearn.feature_extraction.text import TfidfVectorizer\n",
    "from sklearn.feature_selection import SelectKBest\n",
    "from sklearn.feature_selection import f_classif\n",
    "from sklearn.metrics import confusion_matrix\n",
    "\n",
    "\n",
    "# ---------------------------- Basic ----------------------------\n",
    "\n",
    "\n",
    "def display_all(df):\n",
    "    with pd.option_context(\"display.max_rows\", 1000):\n",
    "        with pd.option_context(\"display.max_columns\", 1000):\n",
    "            display(df)\n",
    "            \n",
    "\n",
    "# ------------------------ Preprocessing ------------------------\n",
    "\n",
    "# drop the row of variety <= drop_condition\n",
    "def drop(name_columns, drop_condition, data_old, data_new):\n",
    "    '''drop form name_columns by drop_condition'''\n",
    "    data_new = data_old\n",
    "    for i in drop_condition:\n",
    "        data_old = data_new\n",
    "        x = data_old[name_columns] != i\n",
    "        data_new = data_old[x]\n",
    "    return data_new\n",
    "\n",
    "\n",
    "# Split arrays or matrices into proportion train and test subsets \n",
    "def spilt_vals(data, proportion):\n",
    "    test = pd.DataFrame()\n",
    "    proportion = 1 - proportion\n",
    "    for i in data.variety.factorize()[1]:\n",
    "        x = data['variety'] == i\n",
    "        valid = data[x]\n",
    "        valid = valid.sample(frac=proportion, random_state=RANDOM_SEED)\n",
    "        test = test.append(valid)\n",
    "    data = data.drop(test.index)\n",
    "    data = data.reset_index(drop=True)\n",
    "    test = test.reset_index(drop=True)\n",
    "    return data, test\n",
    "\n",
    "\n",
    "# -------------------- Featurne Engineering ---------------------\n",
    "\n",
    "def ngram_vectorize(train_texts, train_labels, test_texts):\n",
    "    \"\"\"Vectorizes texts as n-gram vectors.\n",
    "\n",
    "    1 text = 1 tf-idf vector the length of vocabulary of unigrams + bigrams.\n",
    "\n",
    "    # Arguments\n",
    "        train_texts: list, training text strings.\n",
    "        train_labels: np.ndarray, training labels.\n",
    "        val_texts: list, validation text strings.\n",
    "\n",
    "    # Returns\n",
    "        x_train, x_val: vectorized training and validation texts\n",
    "    \"\"\"\n",
    "    # Create keyword arguments to pass to the 'tf-idf' vectorizer.\n",
    "    kwargs = {\n",
    "            'ngram_range': NGRAM_RANGE,  # Use 1-grams + 2-grams.\n",
    "            'strip_accents': 'unicode',\n",
    "            'decode_error': 'replace',\n",
    "            'analyzer': TOKEN_MODE,  # Split text into word tokens.\n",
    "            'min_df': MIN_DOCUMENT_FREQUENCY,\n",
    "    }\n",
    "    vectorizer = TfidfVectorizer(**kwargs)\n",
    "\n",
    "    # Learn vocabulary from training texts and vectorize training texts.\n",
    "    x_train = vectorizer.fit_transform(train_texts)\n",
    "\n",
    "    # Vectorize validation texts.\n",
    "    x_test = vectorizer.transform(test_texts)\n",
    "\n",
    "    # Select top 'k' of the vectorized features.\n",
    "    selector = SelectKBest(f_classif, k=min(TOP_K, x_train.shape[1]))\n",
    "    selector.fit(x_train, train_labels)\n",
    "    x_train = selector.transform(x_train).astype('float32')\n",
    "    x_test = selector.transform(x_test).astype('float32')\n",
    "    return x_train, x_test\n",
    "\n",
    "\n",
    "#Confusion matrix\n",
    "def con_matrix(df, y_test, pred_test):\n",
    "    variety = df.variety.value_counts().index\n",
    "    labels_variety = []\n",
    "    for i in variety:\n",
    "        data = df[df.variety == i]\n",
    "        data = data.reset_index()\n",
    "        labels_variety.append(data.labels_variety[0])\n",
    "    confusion = confusion_matrix(y_test, pred_test, labels=labels_variety)\n",
    "    confusion = pd.DataFrame(confusion, index=variety, columns=variety)    \n",
    "    return confusion\n",
    "\n",
    "\n",
    "\n",
    "\n",
    "#-------------------- Ensemble Selection -----------------------\n",
    "\n"
   ]
  },
  {
   "cell_type": "code",
   "execution_count": null,
   "metadata": {},
   "outputs": [],
   "source": []
  }
 ],
 "metadata": {
  "hide_input": false,
  "kernelspec": {
   "display_name": "Python 3",
   "language": "python",
   "name": "python3"
  },
  "language_info": {
   "codemirror_mode": {
    "name": "ipython",
    "version": 3
   },
   "file_extension": ".py",
   "mimetype": "text/x-python",
   "name": "python",
   "nbconvert_exporter": "python",
   "pygments_lexer": "ipython3",
   "version": "3.6.7"
  },
  "toc": {
   "base_numbering": 1,
   "nav_menu": {},
   "number_sections": true,
   "sideBar": true,
   "skip_h1_title": false,
   "title_cell": "Table of Contents",
   "title_sidebar": "Contents",
   "toc_cell": false,
   "toc_position": {},
   "toc_section_display": true,
   "toc_window_display": false
  },
  "varInspector": {
   "cols": {
    "lenName": 16,
    "lenType": 16,
    "lenVar": 40
   },
   "kernels_config": {
    "python": {
     "delete_cmd_postfix": "",
     "delete_cmd_prefix": "del ",
     "library": "var_list.py",
     "varRefreshCmd": "print(var_dic_list())"
    },
    "r": {
     "delete_cmd_postfix": ") ",
     "delete_cmd_prefix": "rm(",
     "library": "var_list.r",
     "varRefreshCmd": "cat(var_dic_list()) "
    }
   },
   "types_to_exclude": [
    "module",
    "function",
    "builtin_function_or_method",
    "instance",
    "_Feature"
   ],
   "window_display": false
  }
 },
 "nbformat": 4,
 "nbformat_minor": 2
}
