{
 "cells": [
  {
   "cell_type": "markdown",
   "metadata": {},
   "source": [
    "# Config"
   ]
  },
  {
   "cell_type": "code",
   "execution_count": null,
   "metadata": {
    "ExecuteTime": {
     "end_time": "2019-06-07T06:40:22.499861Z",
     "start_time": "2019-06-07T06:40:22.465108Z"
    }
   },
   "outputs": [],
   "source": [
    "# %load config.py\n",
    "\n",
    "\n",
    "# ------------------------ PATH ------------------------\n",
    "ROOT_DIR = \"..\"\n",
    "\n",
    "DATA_DIR = f\"{ROOT_DIR}/Data\"\n",
    "\n",
    "# ------------------------ DATA ------------------------\n",
    "# provided data\n",
    "ORI_DATA = f\"{DATA_DIR}/winemag-data-130k-v2.csv\"\n",
    "TRAIN_DATA = f\"{DATA_DIR}/train.csv\"\n",
    "TEST_DATA = f\"{DATA_DIR}/test.csv\"\n",
    "\n",
    "# ------------------------ PARAM ------------------------\n",
    "\n",
    "# Vectorization parameters\n",
    "# Range (inclusive) of n-gram sizes for tokenizing text.\n",
    "NGRAM_RANGE = (1, 2)\n",
    "\n",
    "# Limit on the number of features. We use the top 20K features.\n",
    "TOP_K = 20000\n",
    "\n",
    "# Whether text should be split into word or character n-grams.\n",
    "# One of 'word', 'char'.\n",
    "TOKEN_MODE = 'word'\n",
    "\n",
    "# Minimum document/corpus frequency below which a token will be discarded.\n",
    "MIN_DOCUMENT_FREQUENCY = 2\n",
    "\n",
    "\n",
    "# ------------------------ OTHER ------------------------\n",
    "RANDOM_SEED = 2019\n",
    "\n",
    "\n",
    "    \n"
   ]
  },
  {
   "cell_type": "markdown",
   "metadata": {},
   "source": [
    "# Preprocessing"
   ]
  },
  {
   "cell_type": "code",
   "execution_count": 39,
   "metadata": {
    "ExecuteTime": {
     "end_time": "2019-06-11T09:25:40.218199Z",
     "start_time": "2019-06-11T09:25:40.213554Z"
    }
   },
   "outputs": [
    {
     "name": "stdout",
     "output_type": "stream",
     "text": [
      "Overwriting preprocessing.py\n"
     ]
    }
   ],
   "source": [
    "%%writefile preprocessing.py\n",
    "\n",
    "import numpy as np\n",
    "import pandas as pd\n",
    "from config import *\n",
    "\n",
    "from sklearn.feature_extraction.text import TfidfVectorizer\n",
    "from sklearn.feature_extraction.text import CountVectorizer\n",
    "from sklearn.feature_selection import SelectKBest\n",
    "from sklearn.feature_selection import f_classif\n",
    "from sklearn.metrics import confusion_matrix\n",
    "from sklearn.manifold import MDS\n",
    "\n",
    "\n",
    "# ---------------------------- Basic ----------------------------\n",
    "\n",
    "\n",
    "def display_all(df):\n",
    "    with pd.option_context(\"display.max_rows\", 1000):\n",
    "        with pd.option_context(\"display.max_columns\", 1000):\n",
    "            display(df)\n",
    "            \n",
    "\n",
    "# ------------------------ Preprocessing ------------------------\n",
    "\n",
    "# drop the row of variety <= drop_condition\n",
    "def drop(name_columns, drop_condition, data_old, data_new):\n",
    "    '''drop form name_columns by drop_condition'''\n",
    "    data_new = data_old\n",
    "    for i in drop_condition:\n",
    "        data_old = data_new\n",
    "        x = data_old[name_columns] != i\n",
    "        data_new = data_old[x]\n",
    "    return data_new\n",
    "\n",
    "\n",
    "# Split arrays or matrices into proportion train and test subsets \n",
    "def spilt_vals(data, proportion, **random_state):\n",
    "    test = pd.DataFrame()\n",
    "    proportion = 1 - proportion\n",
    "    for i in data.variety.factorize()[1]:\n",
    "        x = data['variety'] == i\n",
    "        valid = data[x]\n",
    "        valid = valid.sample(frac=proportion, **random_state)\n",
    "        test = test.append(valid)\n",
    "    data = data.drop(test.index)\n",
    "    data = data.reset_index(drop=True)\n",
    "    test = test.reset_index(drop=True)\n",
    "    return data, test\n",
    "\n",
    "\n",
    "# -------------------- Featurne Engineering ---------------------\n",
    "\n",
    "\n",
    "def mds_count(train_texts, test_texts,n):\n",
    "    df_texts = pd.concat([train_texts, test_texts])\n",
    "    kwargs = {\n",
    "            'strip_accents': 'unicode',\n",
    "            'decode_error': 'replace',\n",
    "            'analyzer': TOKEN_MODE,  # Split text into word tokens.\n",
    "            'min_df': MIN_DOCUMENT_FREQUENCY,\n",
    "    }\n",
    "    vectorizer = CountVectorizer(**kwargs)\n",
    "    df_texts = vectorizer.fit_transform(df_texts)\n",
    "    df_texts = pd.DataFrame(df_texts.todense())\n",
    "    corr = df_texts.T.corr()\n",
    "    distance = corr.applymap(lambda x: 1-x**2)\n",
    "    embedding = MDS(n_jobs=-1,n_components=n, dissimilarity='precomputed', random_state=RANDOM_SEED)\n",
    "    mds = embedding.fit_transform(distance)\n",
    "    train = mds[:len(train_texts), :]\n",
    "    test = mds[len(train_texts)::, :]\n",
    "    return train, test\n",
    "\n",
    "\n",
    "\n",
    "def ngram_vectorize(train_texts, train_labels, test_texts):\n",
    "    \"\"\"Vectorizes texts as n-gram vectors.\n",
    "\n",
    "    1 text = 1 tf-idf vector the length of vocabulary of unigrams + bigrams.\n",
    "\n",
    "    # Arguments\n",
    "        train_texts: list, training text strings.\n",
    "        train_labels: np.ndarray, training labels.\n",
    "        val_texts: list, validation text strings.\n",
    "\n",
    "    # Returns\n",
    "        x_train, x_val: vectorized training and validation texts\n",
    "    \"\"\"\n",
    "    # Create keyword arguments to pass to the 'tf-idf' vectorizer.\n",
    "    kwargs = {\n",
    "            'ngram_range': NGRAM_RANGE,  # Use 1-grams + 2-grams.\n",
    "            'strip_accents': 'unicode',\n",
    "            'decode_error': 'replace',\n",
    "            'analyzer': TOKEN_MODE,  # Split text into word tokens.\n",
    "            'min_df': MIN_DOCUMENT_FREQUENCY,\n",
    "    }\n",
    "    vectorizer = TfidfVectorizer(**kwargs)\n",
    "\n",
    "    # Learn vocabulary from training texts and vectorize training texts.\n",
    "    x_train = vectorizer.fit_transform(train_texts)\n",
    "\n",
    "    # Vectorize validation texts.\n",
    "    x_test = vectorizer.transform(test_texts)\n",
    "\n",
    "    # Select top 'k' of the vectorized features.\n",
    "    selector = SelectKBest(f_classif, k=min(TOP_K, x_train.shape[1]))\n",
    "    selector.fit(x_train, train_labels)\n",
    "    x_train = selector.transform(x_train).astype('float32')\n",
    "    x_test = selector.transform(x_test).astype('float32')\n",
    "    return x_train, x_test\n",
    "\n",
    "\n",
    "#Confusion matrix\n",
    "def con_matrix(df, y_test, pred_test):\n",
    "    variety = df.variety.value_counts().index\n",
    "    labels_variety = []\n",
    "    for i in variety:\n",
    "        data = df[df.variety == i]\n",
    "        data = data.reset_index()\n",
    "        labels_variety.append(data.labels_variety[0])\n",
    "    confusion = confusion_matrix(y_test, pred_test, labels=labels_variety)\n",
    "    index = pd.Index(variety, name=\"Real\")\n",
    "    confusion = pd.DataFrame(confusion, index=index, columns=variety)\n",
    "    return confusion\n",
    "\n",
    "def con_matrix_two(df, y_test, pred_test):\n",
    "    labels = ['Red', 'White']\n",
    "    confusion = confusion_matrix(y_test, pred_test)\n",
    "    index = pd.Index(labels, name=\"Real\")\n",
    "    confusion = pd.DataFrame(confusion, index=index, columns=labels)\n",
    "    return confusion\n",
    "\n",
    "\n",
    "\n",
    "\n",
    "#-------------------- Ensemble Selection -----------------------\n",
    "\n"
   ]
  },
  {
   "cell_type": "markdown",
   "metadata": {},
   "source": [
    "# model"
   ]
  },
  {
   "cell_type": "code",
   "execution_count": 13,
   "metadata": {
    "ExecuteTime": {
     "end_time": "2019-06-08T14:30:01.930259Z",
     "start_time": "2019-06-08T14:30:01.924560Z"
    }
   },
   "outputs": [],
   "source": [
    "# %%writefile model.py\n",
    "\n",
    "from sklearn.model_selection import cross_val_score, StratifiedKFold\n",
    "from sklearn.metrics import accuracy_score\n",
    "import xgboost as xgb\n",
    "from model_param_space import *\n",
    "from hyperopt import fmin, tpe, hp, STATUS_OK, Trials, space_eval\n",
    "\n",
    "def error(pred, truch):\n",
    "    return (1 - accuracy_score(truch, pred))\n",
    "\n",
    "def objective(param_dict):\n",
    "    param_dict = {'max_depth': int(param_dict['max_depth'])}\n",
    "    clf = xgb.XGBClassifier(n_jobs=-1, **param_dict)\n",
    "    score = cross_val_score(clf, scoring=error, cv=StratifiedKFold(), n_jobs=-1).mean()\n",
    "    return score\n",
    "\n",
    "space = {'max_depth': hp.quniform('max_depth', 2, 8, 1)}\n",
    "    \n",
    "   \n"
   ]
  },
  {
   "cell_type": "markdown",
   "metadata": {},
   "source": [
    "# model_param_space"
   ]
  },
  {
   "cell_type": "code",
   "execution_count": 7,
   "metadata": {
    "ExecuteTime": {
     "end_time": "2019-06-08T14:14:13.784107Z",
     "start_time": "2019-06-08T14:14:13.779125Z"
    }
   },
   "outputs": [
    {
     "name": "stdout",
     "output_type": "stream",
     "text": [
      "Overwriting model_param_space.py\n"
     ]
    }
   ],
   "source": [
    "%%writefile model_param_space.py\n",
    "import numpy as np\n",
    "from hyperopt import hp\n",
    "\n",
    "from config import *\n",
    "\n",
    "## xgboost\n",
    "xgb_random_seed = RANDOM_SEED\n",
    "xgb_n_estimators_min = 100\n",
    "xgb_n_estimators_max = 1000\n",
    "xgb_n_estimators_step = 10\n",
    "\n",
    "## classification with tree booster\n",
    "param_space_clf_xgb_tree = {\n",
    "    \"booster\": \"gbtree\",\n",
    "    \"objective\": \"multi:softprob\",\n",
    "    \"n_estimators\" : hp.quniform(\"n_estimators\", xgb_n_estimators_min, xgb_n_estimators_max, xgb_n_estimators_step),\n",
    "    \"learning_rate\" : hp.qloguniform(\"learning_rate\", np.log(0.002), np.log(0.1), 0.002),\n",
    "    \"gamma\": hp.loguniform(\"gamma\", np.log(1e-10), np.log(1e1)),\n",
    "    \"reg_alpha\" : hp.loguniform(\"reg_alpha\", np.log(1e-10), np.log(1e1)),\n",
    "    \"reg_lambda\" : hp.loguniform(\"reg_lambda\", np.log(1e-10), np.log(1e1)),\n",
    "    \"min_child_weight\": hp.loguniform(\"min_child_weight\", np.log(1e-10), np.log(1e2)),\n",
    "    \"max_depth\": hp.quniform(\"max_depth\", 1, 10, 1),\n",
    "    \"subsample\": hp.quniform(\"subsample\", 0.1, 1, 0.05),\n",
    "    \"colsample_bytree\": 1,\n",
    "    \"colsample_bylevel\": hp.quniform(\"colsample_bylevel\", 0.1, 1, 0.05),\n",
    "    \"n_jobs\": -1,\n",
    "    \"seed\": xgb_random_seed,\n",
    "}\n"
   ]
  },
  {
   "cell_type": "code",
   "execution_count": null,
   "metadata": {},
   "outputs": [],
   "source": []
  }
 ],
 "metadata": {
  "hide_input": false,
  "kernelspec": {
   "display_name": "Python 3",
   "language": "python",
   "name": "python3"
  },
  "language_info": {
   "codemirror_mode": {
    "name": "ipython",
    "version": 3
   },
   "file_extension": ".py",
   "mimetype": "text/x-python",
   "name": "python",
   "nbconvert_exporter": "python",
   "pygments_lexer": "ipython3",
   "version": "3.6.7"
  },
  "toc": {
   "base_numbering": 1,
   "nav_menu": {},
   "number_sections": true,
   "sideBar": true,
   "skip_h1_title": false,
   "title_cell": "Table of Contents",
   "title_sidebar": "Contents",
   "toc_cell": false,
   "toc_position": {},
   "toc_section_display": true,
   "toc_window_display": false
  },
  "varInspector": {
   "cols": {
    "lenName": 16,
    "lenType": 16,
    "lenVar": 40
   },
   "kernels_config": {
    "python": {
     "delete_cmd_postfix": "",
     "delete_cmd_prefix": "del ",
     "library": "var_list.py",
     "varRefreshCmd": "print(var_dic_list())"
    },
    "r": {
     "delete_cmd_postfix": ") ",
     "delete_cmd_prefix": "rm(",
     "library": "var_list.r",
     "varRefreshCmd": "cat(var_dic_list()) "
    }
   },
   "types_to_exclude": [
    "module",
    "function",
    "builtin_function_or_method",
    "instance",
    "_Feature"
   ],
   "window_display": false
  }
 },
 "nbformat": 4,
 "nbformat_minor": 2
}
