{
 "cells": [
  {
   "cell_type": "code",
   "execution_count": 1,
   "metadata": {
    "ExecuteTime": {
     "end_time": "2019-05-26T10:28:37.594762Z",
     "start_time": "2019-05-26T10:28:36.664483Z"
    }
   },
   "outputs": [],
   "source": [
    "%load_ext autoreload\n",
    "%autoreload 2\n",
    "\n",
    "%matplotlib inline"
   ]
  },
  {
   "cell_type": "code",
   "execution_count": 2,
   "metadata": {
    "ExecuteTime": {
     "end_time": "2019-05-26T10:28:42.023011Z",
     "start_time": "2019-05-26T10:28:37.608383Z"
    },
    "scrolled": false
   },
   "outputs": [
    {
     "name": "stderr",
     "output_type": "stream",
     "text": [
      "/home/ho/.local/lib/python3.6/site-packages/matplotlib/__init__.py:886: MatplotlibDeprecationWarning: \n",
      "examples.directory is deprecated; in the future, examples will be found relative to the 'datapath' directory.\n",
      "  \"found relative to the 'datapath' directory.\".format(key))\n"
     ]
    }
   ],
   "source": [
    "import numpy as np\n",
    "import pandas as pd\n",
    "import matplotlib.pyplot as plt\n",
    "import seaborn as sns\n",
    "import nltk\n",
    "import re\n",
    "from sklearn.manifold import MDS\n",
    "from IPython.display import display\n",
    "from mpl_toolkits.mplot3d import Axes3D\n",
    "from scipy.sparse import csr_matrix\n",
    "import ast\n",
    "import xgboost as xgb"
   ]
  },
  {
   "cell_type": "markdown",
   "metadata": {},
   "source": [
    "# Data clean"
   ]
  },
  {
   "cell_type": "code",
   "execution_count": 138,
   "metadata": {
    "ExecuteTime": {
     "end_time": "2019-05-25T04:21:07.334800Z",
     "start_time": "2019-05-25T04:21:07.317816Z"
    }
   },
   "outputs": [],
   "source": [
    "def display_all(df):\n",
    "    with pd.option_context(\"display.max_rows\", 1000):\n",
    "        with pd.option_context(\"display.max_columns\", 1000):\n",
    "            display(df)"
   ]
  },
  {
   "cell_type": "code",
   "execution_count": 139,
   "metadata": {
    "ExecuteTime": {
     "end_time": "2019-05-25T04:21:11.378560Z",
     "start_time": "2019-05-25T04:21:11.361801Z"
    }
   },
   "outputs": [],
   "source": [
    "path = '/home/ho/Shared/Linux/kaggle/data/wine/'"
   ]
  },
  {
   "cell_type": "code",
   "execution_count": 140,
   "metadata": {
    "ExecuteTime": {
     "end_time": "2019-05-25T04:21:13.083828Z",
     "start_time": "2019-05-25T04:21:11.865886Z"
    }
   },
   "outputs": [],
   "source": [
    "df = pd.read_csv(f'{path}winemag-data-130k-v2.csv',\n",
    "                 low_memory=False, index_col=0)\n",
    "df = df.drop_duplicates()"
   ]
  },
  {
   "cell_type": "code",
   "execution_count": null,
   "metadata": {
    "ExecuteTime": {
     "end_time": "2019-04-20T14:44:21.817121Z",
     "start_time": "2019-04-20T14:44:21.609653Z"
    }
   },
   "outputs": [],
   "source": [
    "df.taster_name.value_counts().plot.barh()"
   ]
  },
  {
   "cell_type": "code",
   "execution_count": null,
   "metadata": {
    "ExecuteTime": {
     "end_time": "2019-04-20T14:44:22.180951Z",
     "start_time": "2019-04-20T14:44:21.909244Z"
    }
   },
   "outputs": [],
   "source": [
    "df.nunique()"
   ]
  },
  {
   "cell_type": "code",
   "execution_count": null,
   "metadata": {
    "ExecuteTime": {
     "end_time": "2019-04-20T14:44:22.331564Z",
     "start_time": "2019-04-20T14:44:22.311689Z"
    }
   },
   "outputs": [],
   "source": [
    "df[df.variety.isnull()]"
   ]
  },
  {
   "cell_type": "code",
   "execution_count": null,
   "metadata": {
    "ExecuteTime": {
     "end_time": "2019-04-20T14:44:22.451626Z",
     "start_time": "2019-04-20T14:44:22.421421Z"
    }
   },
   "outputs": [],
   "source": [
    "df = df.drop([86909])"
   ]
  },
  {
   "cell_type": "code",
   "execution_count": 3,
   "metadata": {
    "ExecuteTime": {
     "end_time": "2019-05-26T10:28:44.056291Z",
     "start_time": "2019-05-26T10:28:44.042352Z"
    }
   },
   "outputs": [],
   "source": [
    "# drop the row of variety<=10\n",
    "def drop(name_columns, drop_condition, data_old, data_new):\n",
    "    '''drop form name_columns by drop_condition'''\n",
    "    data_new = data_old\n",
    "    for i in drop_condition:\n",
    "        data_old = data_new\n",
    "        x = data_old[name_columns] != i\n",
    "        data_new = data_old[x]\n",
    "    return data_new\n"
   ]
  },
  {
   "cell_type": "code",
   "execution_count": null,
   "metadata": {
    "ExecuteTime": {
     "end_time": "2019-04-20T14:44:33.286565Z",
     "start_time": "2019-04-20T14:44:22.561304Z"
    }
   },
   "outputs": [],
   "source": [
    "\n",
    "\n",
    "drop_con_variety = df.variety.value_counts(\n",
    ")[df.variety.value_counts() <= 10].index\n",
    "\n",
    "data = df\n",
    "data_variety = drop('variety', drop_con_variety, df, data)\n",
    "\n",
    "\n",
    "drop_con_description = data.description.value_counts(\n",
    ")[data.description.value_counts() >= 2].index\n",
    "\n",
    "data = data_variety\n",
    "data = drop('description', drop_con_description, data_variety, data)"
   ]
  },
  {
   "cell_type": "code",
   "execution_count": null,
   "metadata": {
    "ExecuteTime": {
     "end_time": "2019-04-20T14:44:33.726425Z",
     "start_time": "2019-04-20T14:44:33.464216Z"
    }
   },
   "outputs": [],
   "source": [
    "data = data.reset_index(drop=True)\n",
    "data.nunique()"
   ]
  },
  {
   "cell_type": "code",
   "execution_count": null,
   "metadata": {
    "ExecuteTime": {
     "end_time": "2019-04-20T14:44:33.927125Z",
     "start_time": "2019-04-20T14:44:33.899671Z"
    }
   },
   "outputs": [],
   "source": [
    "data.variety.value_counts()[data.variety.value_counts() > 3000].index"
   ]
  },
  {
   "cell_type": "code",
   "execution_count": null,
   "metadata": {
    "ExecuteTime": {
     "end_time": "2019-04-20T14:44:35.639367Z",
     "start_time": "2019-04-20T14:44:34.105623Z"
    }
   },
   "outputs": [],
   "source": [
    "data['description'] = data.apply(\n",
    "    lambda x: re.sub(r'[\\\\—\\d+./-]', ' ', x['description']), axis=1)"
   ]
  },
  {
   "cell_type": "code",
   "execution_count": null,
   "metadata": {
    "ExecuteTime": {
     "end_time": "2019-04-20T14:44:35.825103Z",
     "start_time": "2019-04-20T14:44:35.814211Z"
    }
   },
   "outputs": [],
   "source": [
    "def tokenize(text):\n",
    "    '''divides a string into substrings and remove stop words'''\n",
    "    text = text['description'].lower()\n",
    "    text = nltk.word_tokenize(text)\n",
    "    stopwords = set(nltk.corpus.stopwords.words('english')\n",
    "                    ) | set([',', '\\'s', '%', '.', 'n\\'t', '()', ';', '&', ':', '.°'])\n",
    "    content = [x for x in text if x not in stopwords]\n",
    "    return content"
   ]
  },
  {
   "cell_type": "code",
   "execution_count": null,
   "metadata": {
    "ExecuteTime": {
     "end_time": "2019-04-20T14:45:13.024970Z",
     "start_time": "2019-04-20T14:44:36.000605Z"
    }
   },
   "outputs": [],
   "source": [
    "data['description'] = data.apply(tokenize, axis=1)"
   ]
  },
  {
   "cell_type": "code",
   "execution_count": 78,
   "metadata": {
    "ExecuteTime": {
     "end_time": "2019-05-13T05:10:12.998354Z",
     "start_time": "2019-05-13T05:10:12.984839Z"
    }
   },
   "outputs": [],
   "source": [
    "def collect_words(data):\n",
    "    '''collect all words'''\n",
    "    x = data.loc[0, 'description'].copy()\n",
    "    for i in range(1, len(data)):\n",
    "        for j in range(len(data['description'][i])):\n",
    "            x.append(data.loc[i, 'description'][j])\n",
    "    return x"
   ]
  },
  {
   "cell_type": "code",
   "execution_count": null,
   "metadata": {
    "ExecuteTime": {
     "end_time": "2019-04-20T14:45:30.157370Z",
     "start_time": "2019-04-20T14:45:13.223271Z"
    }
   },
   "outputs": [],
   "source": [
    "\n",
    "\n",
    "\n",
    "def frequency_clean(words):\n",
    "    '''clean the words of frequency == 1'''\n",
    "    x = pd.DataFrame(words)\n",
    "    drop_x = x[0].value_counts()[x[0].value_counts() == 1].index\n",
    "    word_new = set(words) - set(drop_x)\n",
    "    return list(word_new)\n",
    "\n",
    "\n",
    "words = collect_words(data)\n",
    "words = frequency_clean(words)"
   ]
  },
  {
   "cell_type": "code",
   "execution_count": null,
   "metadata": {
    "ExecuteTime": {
     "end_time": "2019-04-20T14:58:50.108428Z",
     "start_time": "2019-04-20T14:58:50.097626Z"
    }
   },
   "outputs": [],
   "source": [
    "def content_fraction(text, words):\n",
    "    '''clean the words of frequency == 1 from data'''\n",
    "    content = [x for x in text if x in words]\n",
    "    return content"
   ]
  },
  {
   "cell_type": "code",
   "execution_count": null,
   "metadata": {
    "ExecuteTime": {
     "end_time": "2019-04-20T15:03:21.011149Z",
     "start_time": "2019-04-20T14:58:50.641542Z"
    }
   },
   "outputs": [],
   "source": [
    "data['description'] = data['description'].apply(\n",
    "    content_fraction, args=(words,))"
   ]
  },
  {
   "cell_type": "code",
   "execution_count": null,
   "metadata": {
    "ExecuteTime": {
     "end_time": "2019-04-19T15:44:44.261716Z",
     "start_time": "2019-04-19T15:44:44.127129Z"
    }
   },
   "outputs": [],
   "source": [
    "%mkdir tmp"
   ]
  },
  {
   "cell_type": "code",
   "execution_count": null,
   "metadata": {
    "ExecuteTime": {
     "end_time": "2019-04-20T15:03:30.091193Z",
     "start_time": "2019-04-20T15:03:28.777056Z"
    }
   },
   "outputs": [],
   "source": [
    "words = pd.DataFrame(words)\n",
    "\n",
    "words.T.to_csv('tmp/words.csv')\n",
    "\n",
    "data['labels_variety'] = data.variety.factorize()[0]\n",
    "data.to_csv('tmp/data.csv')"
   ]
  },
  {
   "cell_type": "markdown",
   "metadata": {
    "ExecuteTime": {
     "end_time": "2019-04-19T15:50:03.594929Z",
     "start_time": "2019-04-19T15:50:03.582617Z"
    }
   },
   "source": [
    "# Read data"
   ]
  },
  {
   "cell_type": "markdown",
   "metadata": {},
   "source": [
    "## Linux"
   ]
  },
  {
   "cell_type": "code",
   "execution_count": 6,
   "metadata": {
    "ExecuteTime": {
     "end_time": "2019-05-26T10:28:56.340351Z",
     "start_time": "2019-05-26T10:28:51.331425Z"
    }
   },
   "outputs": [],
   "source": [
    "df = pd.read_csv('tmp/data.csv', low_memory=False, index_col=0,\n",
    "                 converters={'description': ast.literal_eval})\n",
    "words = pd.read_csv('tmp/words.csv', low_memory=False,\n",
    "                    index_col=0, converters={'description': ast.literal_eval})\n",
    "words = list(words.loc[0, :])"
   ]
  },
  {
   "cell_type": "markdown",
   "metadata": {
    "heading_collapsed": true
   },
   "source": [
    "## windows"
   ]
  },
  {
   "cell_type": "code",
   "execution_count": 13,
   "metadata": {
    "ExecuteTime": {
     "end_time": "2019-05-12T12:32:54.300009Z",
     "start_time": "2019-05-12T12:32:49.586328Z"
    },
    "hidden": true
   },
   "outputs": [],
   "source": [
    "df = pd.read_csv('C:/Users/user/Desktop/ho/data.csv', low_memory=False, index_col=0,\n",
    "                 converters={'description': ast.literal_eval})\n",
    "words = pd.read_csv('C:/Users/user/Desktop/ho/words.csv', low_memory=False,\n",
    "                    index_col=0, converters={'description': ast.literal_eval})\n",
    "words = list(words.loc[0, :])"
   ]
  },
  {
   "cell_type": "markdown",
   "metadata": {
    "heading_collapsed": true
   },
   "source": [
    "## Useless"
   ]
  },
  {
   "cell_type": "code",
   "execution_count": null,
   "metadata": {
    "ExecuteTime": {
     "end_time": "2019-04-18T09:39:39.943503Z",
     "start_time": "2019-04-18T09:39:38.113411Z"
    },
    "hidden": true
   },
   "outputs": [],
   "source": [
    "test = np.memmap('test.mymemmap', dtype='float32',\n",
    "                 mode='w+', shape=(100000, 20000))"
   ]
  },
  {
   "cell_type": "code",
   "execution_count": null,
   "metadata": {
    "ExecuteTime": {
     "end_time": "2019-04-18T09:40:11.607453Z",
     "start_time": "2019-04-18T09:40:11.590668Z"
    },
    "hidden": true
   },
   "outputs": [],
   "source": [
    "test = pd.DataFrame(test)"
   ]
  },
  {
   "cell_type": "code",
   "execution_count": null,
   "metadata": {
    "ExecuteTime": {
     "end_time": "2019-04-18T09:42:18.774662Z",
     "start_time": "2019-04-18T09:42:18.761143Z"
    },
    "hidden": true
   },
   "outputs": [],
   "source": [
    "test.iloc[0, 0]"
   ]
  },
  {
   "cell_type": "code",
   "execution_count": null,
   "metadata": {
    "ExecuteTime": {
     "end_time": "2019-04-18T09:30:46.633877Z",
     "start_time": "2019-04-18T09:18:41.385071Z"
    },
    "hidden": true
   },
   "outputs": [],
   "source": [
    "def union(data):\n",
    "    '''union the word of description'''\n",
    "    x = set([])\n",
    "    for i in range(len(data)):\n",
    "        x = set(data['description'][i]) | x\n",
    "    columns = list(x)\n",
    "    matrix = np.memmap('test.mymemmap', dtype='float32',\n",
    "                       mode='w+', shape=((len(data), len(columns))))\n",
    "    matrix = pd.DataFrame(data=matrix, columns=columns)\n",
    "    return matrix\n",
    "\n",
    "\n",
    "def create(data, matrix):\n",
    "    '''create matrix of 0,1'''\n",
    "    for i in range(len(data)):\n",
    "        for j in range(len(data['description'][i])):\n",
    "            columns = data['description'][i][j]\n",
    "            matrix.loc[i, columns] = 1\n",
    "    return matrix\n",
    "\n",
    "\n",
    "matrix = union(data)\n",
    "\n",
    "\n",
    "# test = pd.DataFrame(np.zeros((5,3)), columns=['description', '0', '1'])\n",
    "\n",
    "# range(len(test['description'][0]))\n",
    "\n",
    "# matrix = pd.DataFrame(np.zeros((5,4)), columns=['a', 'b', 'c', 'd'])\n",
    "\n",
    "# for i in range(len(test)):\n",
    "#     for j in range(len(test['description'][i])):\n",
    "#         columns = test['description'][i][j]\n",
    "#         matrix.loc[i, columns] = 1\n",
    "\n",
    "# for j in range(len(test['description'][0])):\n",
    "#     print(j)\n",
    "\n",
    "# test = test.drop(['descripion'], axis=1)\n",
    "\n",
    "# test\n",
    "'''MDS'''\n",
    "# embedding = MDS(n_components=3, n_jobs=7)\n",
    "# X_transformed = embedding.fit_transform(matrix)\n",
    "# X_transformed.shape"
   ]
  },
  {
   "cell_type": "markdown",
   "metadata": {
    "heading_collapsed": true
   },
   "source": [
    "# MDS"
   ]
  },
  {
   "cell_type": "code",
   "execution_count": 76,
   "metadata": {
    "ExecuteTime": {
     "end_time": "2019-05-13T05:09:51.262872Z",
     "start_time": "2019-05-13T05:09:51.247659Z"
    },
    "hidden": true
   },
   "outputs": [],
   "source": [
    "def data_matrix_mean(data, words):\n",
    "    matrix = pd.DataFrame(np.zeros((data.variety.nunique(), len(words))),\n",
    "                          index=data.variety.factorize()[1], columns=words)\n",
    "    for i in range(data.variety.nunique()):\n",
    "        x = data[data['labels_variety'] == i]\n",
    "        x = x.reset_index(drop=True)\n",
    "        x = collect_words(x)  # collect_words() is a function\n",
    "        x = pd.DataFrame(nltk.FreqDist(x), index=[0])\n",
    "        col = list(set(x) & set(words))\n",
    "        for j in range(len(col)):\n",
    "            frequency = x.loc[0, col[j]] / len(col)\n",
    "            matrix.loc[matrix.index[[i]], col[j]] = frequency\n",
    "    return matrix"
   ]
  },
  {
   "cell_type": "code",
   "execution_count": 90,
   "metadata": {
    "ExecuteTime": {
     "end_time": "2019-05-13T05:16:34.719720Z",
     "start_time": "2019-05-13T05:14:24.054611Z"
    },
    "hidden": true
   },
   "outputs": [],
   "source": [
    "df['labels_variety'] = df.variety.factorize()[0]\n",
    "\n",
    "data_matrix = data_matrix_mean(df, words)"
   ]
  },
  {
   "cell_type": "code",
   "execution_count": 91,
   "metadata": {
    "ExecuteTime": {
     "end_time": "2019-05-13T05:16:37.540519Z",
     "start_time": "2019-05-13T05:16:35.622912Z"
    },
    "hidden": true
   },
   "outputs": [],
   "source": [
    "corr = data_matrix.T.corr()"
   ]
  },
  {
   "cell_type": "code",
   "execution_count": 92,
   "metadata": {
    "ExecuteTime": {
     "end_time": "2019-05-13T05:16:37.934996Z",
     "start_time": "2019-05-13T05:16:37.874561Z"
    },
    "hidden": true
   },
   "outputs": [],
   "source": [
    "distance = corr.applymap(lambda x: 1 - x**2)"
   ]
  },
  {
   "cell_type": "code",
   "execution_count": 93,
   "metadata": {
    "ExecuteTime": {
     "end_time": "2019-05-13T05:16:39.232659Z",
     "start_time": "2019-05-13T05:16:38.272764Z"
    },
    "hidden": true
   },
   "outputs": [],
   "source": [
    "embedding = MDS(n_components=2, dissimilarity='precomputed')\n",
    "mds_2d = embedding.fit_transform(distance)"
   ]
  },
  {
   "cell_type": "code",
   "execution_count": 94,
   "metadata": {
    "ExecuteTime": {
     "end_time": "2019-05-13T05:16:40.652747Z",
     "start_time": "2019-05-13T05:16:39.591212Z"
    },
    "hidden": true
   },
   "outputs": [],
   "source": [
    "embedding = MDS(n_components=3, dissimilarity='precomputed')\n",
    "mds_3d = embedding.fit_transform(distance)"
   ]
  },
  {
   "cell_type": "code",
   "execution_count": 95,
   "metadata": {
    "ExecuteTime": {
     "end_time": "2019-05-13T05:16:41.024826Z",
     "start_time": "2019-05-13T05:16:41.012193Z"
    },
    "hidden": true
   },
   "outputs": [],
   "source": [
    "%matplotlib notebook\n",
    "%matplotlib notebook"
   ]
  },
  {
   "cell_type": "code",
   "execution_count": 96,
   "metadata": {
    "ExecuteTime": {
     "end_time": "2019-05-13T05:16:41.366984Z",
     "start_time": "2019-05-13T05:16:41.356117Z"
    },
    "hidden": true
   },
   "outputs": [],
   "source": [
    "mds_2d = pd.DataFrame(mds_2d, index=data_matrix.index, columns=['x', 'y'])"
   ]
  },
  {
   "cell_type": "code",
   "execution_count": 106,
   "metadata": {
    "ExecuteTime": {
     "end_time": "2019-05-13T05:17:33.767686Z",
     "start_time": "2019-05-13T05:17:33.740248Z"
    },
    "hidden": true
   },
   "outputs": [],
   "source": [
    "most_variety = list(df.variety.value_counts()[\n",
    "                    df.variety.value_counts() > 4300].index)"
   ]
  },
  {
   "cell_type": "code",
   "execution_count": 107,
   "metadata": {
    "ExecuteTime": {
     "end_time": "2019-05-13T05:17:34.108293Z",
     "start_time": "2019-05-13T05:17:34.097473Z"
    },
    "hidden": true
   },
   "outputs": [
    {
     "data": {
      "text/plain": [
       "7"
      ]
     },
     "execution_count": 107,
     "metadata": {},
     "output_type": "execute_result"
    }
   ],
   "source": [
    "len(most_variety)"
   ]
  },
  {
   "cell_type": "code",
   "execution_count": 108,
   "metadata": {
    "ExecuteTime": {
     "end_time": "2019-05-13T05:17:36.761828Z",
     "start_time": "2019-05-13T05:17:36.718913Z"
    },
    "hidden": true
   },
   "outputs": [
    {
     "data": {
      "application/javascript": [
       "/* Put everything inside the global mpl namespace */\n",
       "window.mpl = {};\n",
       "\n",
       "\n",
       "mpl.get_websocket_type = function() {\n",
       "    if (typeof(WebSocket) !== 'undefined') {\n",
       "        return WebSocket;\n",
       "    } else if (typeof(MozWebSocket) !== 'undefined') {\n",
       "        return MozWebSocket;\n",
       "    } else {\n",
       "        alert('Your browser does not have WebSocket support.' +\n",
       "              'Please try Chrome, Safari or Firefox ≥ 6. ' +\n",
       "              'Firefox 4 and 5 are also supported but you ' +\n",
       "              'have to enable WebSockets in about:config.');\n",
       "    };\n",
       "}\n",
       "\n",
       "mpl.figure = function(figure_id, websocket, ondownload, parent_element) {\n",
       "    this.id = figure_id;\n",
       "\n",
       "    this.ws = websocket;\n",
       "\n",
       "    this.supports_binary = (this.ws.binaryType != undefined);\n",
       "\n",
       "    if (!this.supports_binary) {\n",
       "        var warnings = document.getElementById(\"mpl-warnings\");\n",
       "        if (warnings) {\n",
       "            warnings.style.display = 'block';\n",
       "            warnings.textContent = (\n",
       "                \"This browser does not support binary websocket messages. \" +\n",
       "                    \"Performance may be slow.\");\n",
       "        }\n",
       "    }\n",
       "\n",
       "    this.imageObj = new Image();\n",
       "\n",
       "    this.context = undefined;\n",
       "    this.message = undefined;\n",
       "    this.canvas = undefined;\n",
       "    this.rubberband_canvas = undefined;\n",
       "    this.rubberband_context = undefined;\n",
       "    this.format_dropdown = undefined;\n",
       "\n",
       "    this.image_mode = 'full';\n",
       "\n",
       "    this.root = $('<div/>');\n",
       "    this._root_extra_style(this.root)\n",
       "    this.root.attr('style', 'display: inline-block');\n",
       "\n",
       "    $(parent_element).append(this.root);\n",
       "\n",
       "    this._init_header(this);\n",
       "    this._init_canvas(this);\n",
       "    this._init_toolbar(this);\n",
       "\n",
       "    var fig = this;\n",
       "\n",
       "    this.waiting = false;\n",
       "\n",
       "    this.ws.onopen =  function () {\n",
       "            fig.send_message(\"supports_binary\", {value: fig.supports_binary});\n",
       "            fig.send_message(\"send_image_mode\", {});\n",
       "            if (mpl.ratio != 1) {\n",
       "                fig.send_message(\"set_dpi_ratio\", {'dpi_ratio': mpl.ratio});\n",
       "            }\n",
       "            fig.send_message(\"refresh\", {});\n",
       "        }\n",
       "\n",
       "    this.imageObj.onload = function() {\n",
       "            if (fig.image_mode == 'full') {\n",
       "                // Full images could contain transparency (where diff images\n",
       "                // almost always do), so we need to clear the canvas so that\n",
       "                // there is no ghosting.\n",
       "                fig.context.clearRect(0, 0, fig.canvas.width, fig.canvas.height);\n",
       "            }\n",
       "            fig.context.drawImage(fig.imageObj, 0, 0);\n",
       "        };\n",
       "\n",
       "    this.imageObj.onunload = function() {\n",
       "        fig.ws.close();\n",
       "    }\n",
       "\n",
       "    this.ws.onmessage = this._make_on_message_function(this);\n",
       "\n",
       "    this.ondownload = ondownload;\n",
       "}\n",
       "\n",
       "mpl.figure.prototype._init_header = function() {\n",
       "    var titlebar = $(\n",
       "        '<div class=\"ui-dialog-titlebar ui-widget-header ui-corner-all ' +\n",
       "        'ui-helper-clearfix\"/>');\n",
       "    var titletext = $(\n",
       "        '<div class=\"ui-dialog-title\" style=\"width: 100%; ' +\n",
       "        'text-align: center; padding: 3px;\"/>');\n",
       "    titlebar.append(titletext)\n",
       "    this.root.append(titlebar);\n",
       "    this.header = titletext[0];\n",
       "}\n",
       "\n",
       "\n",
       "\n",
       "mpl.figure.prototype._canvas_extra_style = function(canvas_div) {\n",
       "\n",
       "}\n",
       "\n",
       "\n",
       "mpl.figure.prototype._root_extra_style = function(canvas_div) {\n",
       "\n",
       "}\n",
       "\n",
       "mpl.figure.prototype._init_canvas = function() {\n",
       "    var fig = this;\n",
       "\n",
       "    var canvas_div = $('<div/>');\n",
       "\n",
       "    canvas_div.attr('style', 'position: relative; clear: both; outline: 0');\n",
       "\n",
       "    function canvas_keyboard_event(event) {\n",
       "        return fig.key_event(event, event['data']);\n",
       "    }\n",
       "\n",
       "    canvas_div.keydown('key_press', canvas_keyboard_event);\n",
       "    canvas_div.keyup('key_release', canvas_keyboard_event);\n",
       "    this.canvas_div = canvas_div\n",
       "    this._canvas_extra_style(canvas_div)\n",
       "    this.root.append(canvas_div);\n",
       "\n",
       "    var canvas = $('<canvas/>');\n",
       "    canvas.addClass('mpl-canvas');\n",
       "    canvas.attr('style', \"left: 0; top: 0; z-index: 0; outline: 0\")\n",
       "\n",
       "    this.canvas = canvas[0];\n",
       "    this.context = canvas[0].getContext(\"2d\");\n",
       "\n",
       "    var backingStore = this.context.backingStorePixelRatio ||\n",
       "\tthis.context.webkitBackingStorePixelRatio ||\n",
       "\tthis.context.mozBackingStorePixelRatio ||\n",
       "\tthis.context.msBackingStorePixelRatio ||\n",
       "\tthis.context.oBackingStorePixelRatio ||\n",
       "\tthis.context.backingStorePixelRatio || 1;\n",
       "\n",
       "    mpl.ratio = (window.devicePixelRatio || 1) / backingStore;\n",
       "\n",
       "    var rubberband = $('<canvas/>');\n",
       "    rubberband.attr('style', \"position: absolute; left: 0; top: 0; z-index: 1;\")\n",
       "\n",
       "    var pass_mouse_events = true;\n",
       "\n",
       "    canvas_div.resizable({\n",
       "        start: function(event, ui) {\n",
       "            pass_mouse_events = false;\n",
       "        },\n",
       "        resize: function(event, ui) {\n",
       "            fig.request_resize(ui.size.width, ui.size.height);\n",
       "        },\n",
       "        stop: function(event, ui) {\n",
       "            pass_mouse_events = true;\n",
       "            fig.request_resize(ui.size.width, ui.size.height);\n",
       "        },\n",
       "    });\n",
       "\n",
       "    function mouse_event_fn(event) {\n",
       "        if (pass_mouse_events)\n",
       "            return fig.mouse_event(event, event['data']);\n",
       "    }\n",
       "\n",
       "    rubberband.mousedown('button_press', mouse_event_fn);\n",
       "    rubberband.mouseup('button_release', mouse_event_fn);\n",
       "    // Throttle sequential mouse events to 1 every 20ms.\n",
       "    rubberband.mousemove('motion_notify', mouse_event_fn);\n",
       "\n",
       "    rubberband.mouseenter('figure_enter', mouse_event_fn);\n",
       "    rubberband.mouseleave('figure_leave', mouse_event_fn);\n",
       "\n",
       "    canvas_div.on(\"wheel\", function (event) {\n",
       "        event = event.originalEvent;\n",
       "        event['data'] = 'scroll'\n",
       "        if (event.deltaY < 0) {\n",
       "            event.step = 1;\n",
       "        } else {\n",
       "            event.step = -1;\n",
       "        }\n",
       "        mouse_event_fn(event);\n",
       "    });\n",
       "\n",
       "    canvas_div.append(canvas);\n",
       "    canvas_div.append(rubberband);\n",
       "\n",
       "    this.rubberband = rubberband;\n",
       "    this.rubberband_canvas = rubberband[0];\n",
       "    this.rubberband_context = rubberband[0].getContext(\"2d\");\n",
       "    this.rubberband_context.strokeStyle = \"#000000\";\n",
       "\n",
       "    this._resize_canvas = function(width, height) {\n",
       "        // Keep the size of the canvas, canvas container, and rubber band\n",
       "        // canvas in synch.\n",
       "        canvas_div.css('width', width)\n",
       "        canvas_div.css('height', height)\n",
       "\n",
       "        canvas.attr('width', width * mpl.ratio);\n",
       "        canvas.attr('height', height * mpl.ratio);\n",
       "        canvas.attr('style', 'width: ' + width + 'px; height: ' + height + 'px;');\n",
       "\n",
       "        rubberband.attr('width', width);\n",
       "        rubberband.attr('height', height);\n",
       "    }\n",
       "\n",
       "    // Set the figure to an initial 600x600px, this will subsequently be updated\n",
       "    // upon first draw.\n",
       "    this._resize_canvas(600, 600);\n",
       "\n",
       "    // Disable right mouse context menu.\n",
       "    $(this.rubberband_canvas).bind(\"contextmenu\",function(e){\n",
       "        return false;\n",
       "    });\n",
       "\n",
       "    function set_focus () {\n",
       "        canvas.focus();\n",
       "        canvas_div.focus();\n",
       "    }\n",
       "\n",
       "    window.setTimeout(set_focus, 100);\n",
       "}\n",
       "\n",
       "mpl.figure.prototype._init_toolbar = function() {\n",
       "    var fig = this;\n",
       "\n",
       "    var nav_element = $('<div/>')\n",
       "    nav_element.attr('style', 'width: 100%');\n",
       "    this.root.append(nav_element);\n",
       "\n",
       "    // Define a callback function for later on.\n",
       "    function toolbar_event(event) {\n",
       "        return fig.toolbar_button_onclick(event['data']);\n",
       "    }\n",
       "    function toolbar_mouse_event(event) {\n",
       "        return fig.toolbar_button_onmouseover(event['data']);\n",
       "    }\n",
       "\n",
       "    for(var toolbar_ind in mpl.toolbar_items) {\n",
       "        var name = mpl.toolbar_items[toolbar_ind][0];\n",
       "        var tooltip = mpl.toolbar_items[toolbar_ind][1];\n",
       "        var image = mpl.toolbar_items[toolbar_ind][2];\n",
       "        var method_name = mpl.toolbar_items[toolbar_ind][3];\n",
       "\n",
       "        if (!name) {\n",
       "            // put a spacer in here.\n",
       "            continue;\n",
       "        }\n",
       "        var button = $('<button/>');\n",
       "        button.addClass('ui-button ui-widget ui-state-default ui-corner-all ' +\n",
       "                        'ui-button-icon-only');\n",
       "        button.attr('role', 'button');\n",
       "        button.attr('aria-disabled', 'false');\n",
       "        button.click(method_name, toolbar_event);\n",
       "        button.mouseover(tooltip, toolbar_mouse_event);\n",
       "\n",
       "        var icon_img = $('<span/>');\n",
       "        icon_img.addClass('ui-button-icon-primary ui-icon');\n",
       "        icon_img.addClass(image);\n",
       "        icon_img.addClass('ui-corner-all');\n",
       "\n",
       "        var tooltip_span = $('<span/>');\n",
       "        tooltip_span.addClass('ui-button-text');\n",
       "        tooltip_span.html(tooltip);\n",
       "\n",
       "        button.append(icon_img);\n",
       "        button.append(tooltip_span);\n",
       "\n",
       "        nav_element.append(button);\n",
       "    }\n",
       "\n",
       "    var fmt_picker_span = $('<span/>');\n",
       "\n",
       "    var fmt_picker = $('<select/>');\n",
       "    fmt_picker.addClass('mpl-toolbar-option ui-widget ui-widget-content');\n",
       "    fmt_picker_span.append(fmt_picker);\n",
       "    nav_element.append(fmt_picker_span);\n",
       "    this.format_dropdown = fmt_picker[0];\n",
       "\n",
       "    for (var ind in mpl.extensions) {\n",
       "        var fmt = mpl.extensions[ind];\n",
       "        var option = $(\n",
       "            '<option/>', {selected: fmt === mpl.default_extension}).html(fmt);\n",
       "        fmt_picker.append(option)\n",
       "    }\n",
       "\n",
       "    // Add hover states to the ui-buttons\n",
       "    $( \".ui-button\" ).hover(\n",
       "        function() { $(this).addClass(\"ui-state-hover\");},\n",
       "        function() { $(this).removeClass(\"ui-state-hover\");}\n",
       "    );\n",
       "\n",
       "    var status_bar = $('<span class=\"mpl-message\"/>');\n",
       "    nav_element.append(status_bar);\n",
       "    this.message = status_bar[0];\n",
       "}\n",
       "\n",
       "mpl.figure.prototype.request_resize = function(x_pixels, y_pixels) {\n",
       "    // Request matplotlib to resize the figure. Matplotlib will then trigger a resize in the client,\n",
       "    // which will in turn request a refresh of the image.\n",
       "    this.send_message('resize', {'width': x_pixels, 'height': y_pixels});\n",
       "}\n",
       "\n",
       "mpl.figure.prototype.send_message = function(type, properties) {\n",
       "    properties['type'] = type;\n",
       "    properties['figure_id'] = this.id;\n",
       "    this.ws.send(JSON.stringify(properties));\n",
       "}\n",
       "\n",
       "mpl.figure.prototype.send_draw_message = function() {\n",
       "    if (!this.waiting) {\n",
       "        this.waiting = true;\n",
       "        this.ws.send(JSON.stringify({type: \"draw\", figure_id: this.id}));\n",
       "    }\n",
       "}\n",
       "\n",
       "\n",
       "mpl.figure.prototype.handle_save = function(fig, msg) {\n",
       "    var format_dropdown = fig.format_dropdown;\n",
       "    var format = format_dropdown.options[format_dropdown.selectedIndex].value;\n",
       "    fig.ondownload(fig, format);\n",
       "}\n",
       "\n",
       "\n",
       "mpl.figure.prototype.handle_resize = function(fig, msg) {\n",
       "    var size = msg['size'];\n",
       "    if (size[0] != fig.canvas.width || size[1] != fig.canvas.height) {\n",
       "        fig._resize_canvas(size[0], size[1]);\n",
       "        fig.send_message(\"refresh\", {});\n",
       "    };\n",
       "}\n",
       "\n",
       "mpl.figure.prototype.handle_rubberband = function(fig, msg) {\n",
       "    var x0 = msg['x0'] / mpl.ratio;\n",
       "    var y0 = (fig.canvas.height - msg['y0']) / mpl.ratio;\n",
       "    var x1 = msg['x1'] / mpl.ratio;\n",
       "    var y1 = (fig.canvas.height - msg['y1']) / mpl.ratio;\n",
       "    x0 = Math.floor(x0) + 0.5;\n",
       "    y0 = Math.floor(y0) + 0.5;\n",
       "    x1 = Math.floor(x1) + 0.5;\n",
       "    y1 = Math.floor(y1) + 0.5;\n",
       "    var min_x = Math.min(x0, x1);\n",
       "    var min_y = Math.min(y0, y1);\n",
       "    var width = Math.abs(x1 - x0);\n",
       "    var height = Math.abs(y1 - y0);\n",
       "\n",
       "    fig.rubberband_context.clearRect(\n",
       "        0, 0, fig.canvas.width, fig.canvas.height);\n",
       "\n",
       "    fig.rubberband_context.strokeRect(min_x, min_y, width, height);\n",
       "}\n",
       "\n",
       "mpl.figure.prototype.handle_figure_label = function(fig, msg) {\n",
       "    // Updates the figure title.\n",
       "    fig.header.textContent = msg['label'];\n",
       "}\n",
       "\n",
       "mpl.figure.prototype.handle_cursor = function(fig, msg) {\n",
       "    var cursor = msg['cursor'];\n",
       "    switch(cursor)\n",
       "    {\n",
       "    case 0:\n",
       "        cursor = 'pointer';\n",
       "        break;\n",
       "    case 1:\n",
       "        cursor = 'default';\n",
       "        break;\n",
       "    case 2:\n",
       "        cursor = 'crosshair';\n",
       "        break;\n",
       "    case 3:\n",
       "        cursor = 'move';\n",
       "        break;\n",
       "    }\n",
       "    fig.rubberband_canvas.style.cursor = cursor;\n",
       "}\n",
       "\n",
       "mpl.figure.prototype.handle_message = function(fig, msg) {\n",
       "    fig.message.textContent = msg['message'];\n",
       "}\n",
       "\n",
       "mpl.figure.prototype.handle_draw = function(fig, msg) {\n",
       "    // Request the server to send over a new figure.\n",
       "    fig.send_draw_message();\n",
       "}\n",
       "\n",
       "mpl.figure.prototype.handle_image_mode = function(fig, msg) {\n",
       "    fig.image_mode = msg['mode'];\n",
       "}\n",
       "\n",
       "mpl.figure.prototype.updated_canvas_event = function() {\n",
       "    // Called whenever the canvas gets updated.\n",
       "    this.send_message(\"ack\", {});\n",
       "}\n",
       "\n",
       "// A function to construct a web socket function for onmessage handling.\n",
       "// Called in the figure constructor.\n",
       "mpl.figure.prototype._make_on_message_function = function(fig) {\n",
       "    return function socket_on_message(evt) {\n",
       "        if (evt.data instanceof Blob) {\n",
       "            /* FIXME: We get \"Resource interpreted as Image but\n",
       "             * transferred with MIME type text/plain:\" errors on\n",
       "             * Chrome.  But how to set the MIME type?  It doesn't seem\n",
       "             * to be part of the websocket stream */\n",
       "            evt.data.type = \"image/png\";\n",
       "\n",
       "            /* Free the memory for the previous frames */\n",
       "            if (fig.imageObj.src) {\n",
       "                (window.URL || window.webkitURL).revokeObjectURL(\n",
       "                    fig.imageObj.src);\n",
       "            }\n",
       "\n",
       "            fig.imageObj.src = (window.URL || window.webkitURL).createObjectURL(\n",
       "                evt.data);\n",
       "            fig.updated_canvas_event();\n",
       "            fig.waiting = false;\n",
       "            return;\n",
       "        }\n",
       "        else if (typeof evt.data === 'string' && evt.data.slice(0, 21) == \"data:image/png;base64\") {\n",
       "            fig.imageObj.src = evt.data;\n",
       "            fig.updated_canvas_event();\n",
       "            fig.waiting = false;\n",
       "            return;\n",
       "        }\n",
       "\n",
       "        var msg = JSON.parse(evt.data);\n",
       "        var msg_type = msg['type'];\n",
       "\n",
       "        // Call the  \"handle_{type}\" callback, which takes\n",
       "        // the figure and JSON message as its only arguments.\n",
       "        try {\n",
       "            var callback = fig[\"handle_\" + msg_type];\n",
       "        } catch (e) {\n",
       "            console.log(\"No handler for the '\" + msg_type + \"' message type: \", msg);\n",
       "            return;\n",
       "        }\n",
       "\n",
       "        if (callback) {\n",
       "            try {\n",
       "                // console.log(\"Handling '\" + msg_type + \"' message: \", msg);\n",
       "                callback(fig, msg);\n",
       "            } catch (e) {\n",
       "                console.log(\"Exception inside the 'handler_\" + msg_type + \"' callback:\", e, e.stack, msg);\n",
       "            }\n",
       "        }\n",
       "    };\n",
       "}\n",
       "\n",
       "// from http://stackoverflow.com/questions/1114465/getting-mouse-location-in-canvas\n",
       "mpl.findpos = function(e) {\n",
       "    //this section is from http://www.quirksmode.org/js/events_properties.html\n",
       "    var targ;\n",
       "    if (!e)\n",
       "        e = window.event;\n",
       "    if (e.target)\n",
       "        targ = e.target;\n",
       "    else if (e.srcElement)\n",
       "        targ = e.srcElement;\n",
       "    if (targ.nodeType == 3) // defeat Safari bug\n",
       "        targ = targ.parentNode;\n",
       "\n",
       "    // jQuery normalizes the pageX and pageY\n",
       "    // pageX,Y are the mouse positions relative to the document\n",
       "    // offset() returns the position of the element relative to the document\n",
       "    var x = e.pageX - $(targ).offset().left;\n",
       "    var y = e.pageY - $(targ).offset().top;\n",
       "\n",
       "    return {\"x\": x, \"y\": y};\n",
       "};\n",
       "\n",
       "/*\n",
       " * return a copy of an object with only non-object keys\n",
       " * we need this to avoid circular references\n",
       " * http://stackoverflow.com/a/24161582/3208463\n",
       " */\n",
       "function simpleKeys (original) {\n",
       "  return Object.keys(original).reduce(function (obj, key) {\n",
       "    if (typeof original[key] !== 'object')\n",
       "        obj[key] = original[key]\n",
       "    return obj;\n",
       "  }, {});\n",
       "}\n",
       "\n",
       "mpl.figure.prototype.mouse_event = function(event, name) {\n",
       "    var canvas_pos = mpl.findpos(event)\n",
       "\n",
       "    if (name === 'button_press')\n",
       "    {\n",
       "        this.canvas.focus();\n",
       "        this.canvas_div.focus();\n",
       "    }\n",
       "\n",
       "    var x = canvas_pos.x * mpl.ratio;\n",
       "    var y = canvas_pos.y * mpl.ratio;\n",
       "\n",
       "    this.send_message(name, {x: x, y: y, button: event.button,\n",
       "                             step: event.step,\n",
       "                             guiEvent: simpleKeys(event)});\n",
       "\n",
       "    /* This prevents the web browser from automatically changing to\n",
       "     * the text insertion cursor when the button is pressed.  We want\n",
       "     * to control all of the cursor setting manually through the\n",
       "     * 'cursor' event from matplotlib */\n",
       "    event.preventDefault();\n",
       "    return false;\n",
       "}\n",
       "\n",
       "mpl.figure.prototype._key_event_extra = function(event, name) {\n",
       "    // Handle any extra behaviour associated with a key event\n",
       "}\n",
       "\n",
       "mpl.figure.prototype.key_event = function(event, name) {\n",
       "\n",
       "    // Prevent repeat events\n",
       "    if (name == 'key_press')\n",
       "    {\n",
       "        if (event.which === this._key)\n",
       "            return;\n",
       "        else\n",
       "            this._key = event.which;\n",
       "    }\n",
       "    if (name == 'key_release')\n",
       "        this._key = null;\n",
       "\n",
       "    var value = '';\n",
       "    if (event.ctrlKey && event.which != 17)\n",
       "        value += \"ctrl+\";\n",
       "    if (event.altKey && event.which != 18)\n",
       "        value += \"alt+\";\n",
       "    if (event.shiftKey && event.which != 16)\n",
       "        value += \"shift+\";\n",
       "\n",
       "    value += 'k';\n",
       "    value += event.which.toString();\n",
       "\n",
       "    this._key_event_extra(event, name);\n",
       "\n",
       "    this.send_message(name, {key: value,\n",
       "                             guiEvent: simpleKeys(event)});\n",
       "    return false;\n",
       "}\n",
       "\n",
       "mpl.figure.prototype.toolbar_button_onclick = function(name) {\n",
       "    if (name == 'download') {\n",
       "        this.handle_save(this, null);\n",
       "    } else {\n",
       "        this.send_message(\"toolbar_button\", {name: name});\n",
       "    }\n",
       "};\n",
       "\n",
       "mpl.figure.prototype.toolbar_button_onmouseover = function(tooltip) {\n",
       "    this.message.textContent = tooltip;\n",
       "};\n",
       "mpl.toolbar_items = [[\"Home\", \"Reset original view\", \"fa fa-home icon-home\", \"home\"], [\"Back\", \"Back to previous view\", \"fa fa-arrow-left icon-arrow-left\", \"back\"], [\"Forward\", \"Forward to next view\", \"fa fa-arrow-right icon-arrow-right\", \"forward\"], [\"\", \"\", \"\", \"\"], [\"Pan\", \"Pan axes with left mouse, zoom with right\", \"fa fa-arrows icon-move\", \"pan\"], [\"Zoom\", \"Zoom to rectangle\", \"fa fa-square-o icon-check-empty\", \"zoom\"], [\"\", \"\", \"\", \"\"], [\"Download\", \"Download plot\", \"fa fa-floppy-o icon-save\", \"download\"]];\n",
       "\n",
       "mpl.extensions = [\"eps\", \"jpeg\", \"pdf\", \"png\", \"ps\", \"raw\", \"svg\", \"tif\"];\n",
       "\n",
       "mpl.default_extension = \"png\";var comm_websocket_adapter = function(comm) {\n",
       "    // Create a \"websocket\"-like object which calls the given IPython comm\n",
       "    // object with the appropriate methods. Currently this is a non binary\n",
       "    // socket, so there is still some room for performance tuning.\n",
       "    var ws = {};\n",
       "\n",
       "    ws.close = function() {\n",
       "        comm.close()\n",
       "    };\n",
       "    ws.send = function(m) {\n",
       "        //console.log('sending', m);\n",
       "        comm.send(m);\n",
       "    };\n",
       "    // Register the callback with on_msg.\n",
       "    comm.on_msg(function(msg) {\n",
       "        //console.log('receiving', msg['content']['data'], msg);\n",
       "        // Pass the mpl event to the overridden (by mpl) onmessage function.\n",
       "        ws.onmessage(msg['content']['data'])\n",
       "    });\n",
       "    return ws;\n",
       "}\n",
       "\n",
       "mpl.mpl_figure_comm = function(comm, msg) {\n",
       "    // This is the function which gets called when the mpl process\n",
       "    // starts-up an IPython Comm through the \"matplotlib\" channel.\n",
       "\n",
       "    var id = msg.content.data.id;\n",
       "    // Get hold of the div created by the display call when the Comm\n",
       "    // socket was opened in Python.\n",
       "    var element = $(\"#\" + id);\n",
       "    var ws_proxy = comm_websocket_adapter(comm)\n",
       "\n",
       "    function ondownload(figure, format) {\n",
       "        window.open(figure.imageObj.src);\n",
       "    }\n",
       "\n",
       "    var fig = new mpl.figure(id, ws_proxy,\n",
       "                           ondownload,\n",
       "                           element.get(0));\n",
       "\n",
       "    // Call onopen now - mpl needs it, as it is assuming we've passed it a real\n",
       "    // web socket which is closed, not our websocket->open comm proxy.\n",
       "    ws_proxy.onopen();\n",
       "\n",
       "    fig.parent_element = element.get(0);\n",
       "    fig.cell_info = mpl.find_output_cell(\"<div id='\" + id + \"'></div>\");\n",
       "    if (!fig.cell_info) {\n",
       "        console.error(\"Failed to find cell for figure\", id, fig);\n",
       "        return;\n",
       "    }\n",
       "\n",
       "    var output_index = fig.cell_info[2]\n",
       "    var cell = fig.cell_info[0];\n",
       "\n",
       "};\n",
       "\n",
       "mpl.figure.prototype.handle_close = function(fig, msg) {\n",
       "    var width = fig.canvas.width/mpl.ratio\n",
       "    fig.root.unbind('remove')\n",
       "\n",
       "    // Update the output cell to use the data from the current canvas.\n",
       "    fig.push_to_output();\n",
       "    var dataURL = fig.canvas.toDataURL();\n",
       "    // Re-enable the keyboard manager in IPython - without this line, in FF,\n",
       "    // the notebook keyboard shortcuts fail.\n",
       "    IPython.keyboard_manager.enable()\n",
       "    $(fig.parent_element).html('<img src=\"' + dataURL + '\" width=\"' + width + '\">');\n",
       "    fig.close_ws(fig, msg);\n",
       "}\n",
       "\n",
       "mpl.figure.prototype.close_ws = function(fig, msg){\n",
       "    fig.send_message('closing', msg);\n",
       "    // fig.ws.close()\n",
       "}\n",
       "\n",
       "mpl.figure.prototype.push_to_output = function(remove_interactive) {\n",
       "    // Turn the data on the canvas into data in the output cell.\n",
       "    var width = this.canvas.width/mpl.ratio\n",
       "    var dataURL = this.canvas.toDataURL();\n",
       "    this.cell_info[1]['text/html'] = '<img src=\"' + dataURL + '\" width=\"' + width + '\">';\n",
       "}\n",
       "\n",
       "mpl.figure.prototype.updated_canvas_event = function() {\n",
       "    // Tell IPython that the notebook contents must change.\n",
       "    IPython.notebook.set_dirty(true);\n",
       "    this.send_message(\"ack\", {});\n",
       "    var fig = this;\n",
       "    // Wait a second, then push the new image to the DOM so\n",
       "    // that it is saved nicely (might be nice to debounce this).\n",
       "    setTimeout(function () { fig.push_to_output() }, 1000);\n",
       "}\n",
       "\n",
       "mpl.figure.prototype._init_toolbar = function() {\n",
       "    var fig = this;\n",
       "\n",
       "    var nav_element = $('<div/>')\n",
       "    nav_element.attr('style', 'width: 100%');\n",
       "    this.root.append(nav_element);\n",
       "\n",
       "    // Define a callback function for later on.\n",
       "    function toolbar_event(event) {\n",
       "        return fig.toolbar_button_onclick(event['data']);\n",
       "    }\n",
       "    function toolbar_mouse_event(event) {\n",
       "        return fig.toolbar_button_onmouseover(event['data']);\n",
       "    }\n",
       "\n",
       "    for(var toolbar_ind in mpl.toolbar_items){\n",
       "        var name = mpl.toolbar_items[toolbar_ind][0];\n",
       "        var tooltip = mpl.toolbar_items[toolbar_ind][1];\n",
       "        var image = mpl.toolbar_items[toolbar_ind][2];\n",
       "        var method_name = mpl.toolbar_items[toolbar_ind][3];\n",
       "\n",
       "        if (!name) { continue; };\n",
       "\n",
       "        var button = $('<button class=\"btn btn-default\" href=\"#\" title=\"' + name + '\"><i class=\"fa ' + image + ' fa-lg\"></i></button>');\n",
       "        button.click(method_name, toolbar_event);\n",
       "        button.mouseover(tooltip, toolbar_mouse_event);\n",
       "        nav_element.append(button);\n",
       "    }\n",
       "\n",
       "    // Add the status bar.\n",
       "    var status_bar = $('<span class=\"mpl-message\" style=\"text-align:right; float: right;\"/>');\n",
       "    nav_element.append(status_bar);\n",
       "    this.message = status_bar[0];\n",
       "\n",
       "    // Add the close button to the window.\n",
       "    var buttongrp = $('<div class=\"btn-group inline pull-right\"></div>');\n",
       "    var button = $('<button class=\"btn btn-mini btn-primary\" href=\"#\" title=\"Stop Interaction\"><i class=\"fa fa-power-off icon-remove icon-large\"></i></button>');\n",
       "    button.click(function (evt) { fig.handle_close(fig, {}); } );\n",
       "    button.mouseover('Stop Interaction', toolbar_mouse_event);\n",
       "    buttongrp.append(button);\n",
       "    var titlebar = this.root.find($('.ui-dialog-titlebar'));\n",
       "    titlebar.prepend(buttongrp);\n",
       "}\n",
       "\n",
       "mpl.figure.prototype._root_extra_style = function(el){\n",
       "    var fig = this\n",
       "    el.on(\"remove\", function(){\n",
       "\tfig.close_ws(fig, {});\n",
       "    });\n",
       "}\n",
       "\n",
       "mpl.figure.prototype._canvas_extra_style = function(el){\n",
       "    // this is important to make the div 'focusable\n",
       "    el.attr('tabindex', 0)\n",
       "    // reach out to IPython and tell the keyboard manager to turn it's self\n",
       "    // off when our div gets focus\n",
       "\n",
       "    // location in version 3\n",
       "    if (IPython.notebook.keyboard_manager) {\n",
       "        IPython.notebook.keyboard_manager.register_events(el);\n",
       "    }\n",
       "    else {\n",
       "        // location in version 2\n",
       "        IPython.keyboard_manager.register_events(el);\n",
       "    }\n",
       "\n",
       "}\n",
       "\n",
       "mpl.figure.prototype._key_event_extra = function(event, name) {\n",
       "    var manager = IPython.notebook.keyboard_manager;\n",
       "    if (!manager)\n",
       "        manager = IPython.keyboard_manager;\n",
       "\n",
       "    // Check for shift+enter\n",
       "    if (event.shiftKey && event.which == 13) {\n",
       "        this.canvas_div.blur();\n",
       "        event.shiftKey = false;\n",
       "        // Send a \"J\" for go to next cell\n",
       "        event.which = 74;\n",
       "        event.keyCode = 74;\n",
       "        manager.command_mode();\n",
       "        manager.handle_keydown(event);\n",
       "    }\n",
       "}\n",
       "\n",
       "mpl.figure.prototype.handle_save = function(fig, msg) {\n",
       "    fig.ondownload(fig, null);\n",
       "}\n",
       "\n",
       "\n",
       "mpl.find_output_cell = function(html_output) {\n",
       "    // Return the cell and output element which can be found *uniquely* in the notebook.\n",
       "    // Note - this is a bit hacky, but it is done because the \"notebook_saving.Notebook\"\n",
       "    // IPython event is triggered only after the cells have been serialised, which for\n",
       "    // our purposes (turning an active figure into a static one), is too late.\n",
       "    var cells = IPython.notebook.get_cells();\n",
       "    var ncells = cells.length;\n",
       "    for (var i=0; i<ncells; i++) {\n",
       "        var cell = cells[i];\n",
       "        if (cell.cell_type === 'code'){\n",
       "            for (var j=0; j<cell.output_area.outputs.length; j++) {\n",
       "                var data = cell.output_area.outputs[j];\n",
       "                if (data.data) {\n",
       "                    // IPython >= 3 moved mimebundle to data attribute of output\n",
       "                    data = data.data;\n",
       "                }\n",
       "                if (data['text/html'] == html_output) {\n",
       "                    return [cell, data, j];\n",
       "                }\n",
       "            }\n",
       "        }\n",
       "    }\n",
       "}\n",
       "\n",
       "// Register the function which deals with the matplotlib target/channel.\n",
       "// The kernel may be null if the page has been refreshed.\n",
       "if (IPython.notebook.kernel != null) {\n",
       "    IPython.notebook.kernel.comm_manager.register_target('matplotlib', mpl.mpl_figure_comm);\n",
       "}\n"
      ],
      "text/plain": [
       "<IPython.core.display.Javascript object>"
      ]
     },
     "metadata": {},
     "output_type": "display_data"
    },
    {
     "data": {
      "text/html": [
       "<img src=\"data:image/png;base64,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\" width=\"720\">"
      ],
      "text/plain": [
       "<IPython.core.display.HTML object>"
      ]
     },
     "metadata": {},
     "output_type": "display_data"
    }
   ],
   "source": [
    "fig = plt.figure(figsize=(10, 10))\n",
    "ax = fig.add_subplot(1, 1, 1)\n",
    "axes = sns.scatterplot(data=mds_2d, x=\"x\", y=\"y\", marker=\"+\", color=\"blue\")\n",
    "for name in most_variety:\n",
    "    axes.text(mds_2d.loc[name, 'x']+0.01,\n",
    "              mds_2d.loc[name, 'y'], s=name, fontsize=9)"
   ]
  },
  {
   "cell_type": "code",
   "execution_count": 100,
   "metadata": {
    "ExecuteTime": {
     "end_time": "2019-05-13T05:16:42.804599Z",
     "start_time": "2019-05-13T05:16:42.778136Z"
    },
    "hidden": true
   },
   "outputs": [
    {
     "data": {
      "application/javascript": [
       "/* Put everything inside the global mpl namespace */\n",
       "window.mpl = {};\n",
       "\n",
       "\n",
       "mpl.get_websocket_type = function() {\n",
       "    if (typeof(WebSocket) !== 'undefined') {\n",
       "        return WebSocket;\n",
       "    } else if (typeof(MozWebSocket) !== 'undefined') {\n",
       "        return MozWebSocket;\n",
       "    } else {\n",
       "        alert('Your browser does not have WebSocket support.' +\n",
       "              'Please try Chrome, Safari or Firefox ≥ 6. ' +\n",
       "              'Firefox 4 and 5 are also supported but you ' +\n",
       "              'have to enable WebSockets in about:config.');\n",
       "    };\n",
       "}\n",
       "\n",
       "mpl.figure = function(figure_id, websocket, ondownload, parent_element) {\n",
       "    this.id = figure_id;\n",
       "\n",
       "    this.ws = websocket;\n",
       "\n",
       "    this.supports_binary = (this.ws.binaryType != undefined);\n",
       "\n",
       "    if (!this.supports_binary) {\n",
       "        var warnings = document.getElementById(\"mpl-warnings\");\n",
       "        if (warnings) {\n",
       "            warnings.style.display = 'block';\n",
       "            warnings.textContent = (\n",
       "                \"This browser does not support binary websocket messages. \" +\n",
       "                    \"Performance may be slow.\");\n",
       "        }\n",
       "    }\n",
       "\n",
       "    this.imageObj = new Image();\n",
       "\n",
       "    this.context = undefined;\n",
       "    this.message = undefined;\n",
       "    this.canvas = undefined;\n",
       "    this.rubberband_canvas = undefined;\n",
       "    this.rubberband_context = undefined;\n",
       "    this.format_dropdown = undefined;\n",
       "\n",
       "    this.image_mode = 'full';\n",
       "\n",
       "    this.root = $('<div/>');\n",
       "    this._root_extra_style(this.root)\n",
       "    this.root.attr('style', 'display: inline-block');\n",
       "\n",
       "    $(parent_element).append(this.root);\n",
       "\n",
       "    this._init_header(this);\n",
       "    this._init_canvas(this);\n",
       "    this._init_toolbar(this);\n",
       "\n",
       "    var fig = this;\n",
       "\n",
       "    this.waiting = false;\n",
       "\n",
       "    this.ws.onopen =  function () {\n",
       "            fig.send_message(\"supports_binary\", {value: fig.supports_binary});\n",
       "            fig.send_message(\"send_image_mode\", {});\n",
       "            if (mpl.ratio != 1) {\n",
       "                fig.send_message(\"set_dpi_ratio\", {'dpi_ratio': mpl.ratio});\n",
       "            }\n",
       "            fig.send_message(\"refresh\", {});\n",
       "        }\n",
       "\n",
       "    this.imageObj.onload = function() {\n",
       "            if (fig.image_mode == 'full') {\n",
       "                // Full images could contain transparency (where diff images\n",
       "                // almost always do), so we need to clear the canvas so that\n",
       "                // there is no ghosting.\n",
       "                fig.context.clearRect(0, 0, fig.canvas.width, fig.canvas.height);\n",
       "            }\n",
       "            fig.context.drawImage(fig.imageObj, 0, 0);\n",
       "        };\n",
       "\n",
       "    this.imageObj.onunload = function() {\n",
       "        fig.ws.close();\n",
       "    }\n",
       "\n",
       "    this.ws.onmessage = this._make_on_message_function(this);\n",
       "\n",
       "    this.ondownload = ondownload;\n",
       "}\n",
       "\n",
       "mpl.figure.prototype._init_header = function() {\n",
       "    var titlebar = $(\n",
       "        '<div class=\"ui-dialog-titlebar ui-widget-header ui-corner-all ' +\n",
       "        'ui-helper-clearfix\"/>');\n",
       "    var titletext = $(\n",
       "        '<div class=\"ui-dialog-title\" style=\"width: 100%; ' +\n",
       "        'text-align: center; padding: 3px;\"/>');\n",
       "    titlebar.append(titletext)\n",
       "    this.root.append(titlebar);\n",
       "    this.header = titletext[0];\n",
       "}\n",
       "\n",
       "\n",
       "\n",
       "mpl.figure.prototype._canvas_extra_style = function(canvas_div) {\n",
       "\n",
       "}\n",
       "\n",
       "\n",
       "mpl.figure.prototype._root_extra_style = function(canvas_div) {\n",
       "\n",
       "}\n",
       "\n",
       "mpl.figure.prototype._init_canvas = function() {\n",
       "    var fig = this;\n",
       "\n",
       "    var canvas_div = $('<div/>');\n",
       "\n",
       "    canvas_div.attr('style', 'position: relative; clear: both; outline: 0');\n",
       "\n",
       "    function canvas_keyboard_event(event) {\n",
       "        return fig.key_event(event, event['data']);\n",
       "    }\n",
       "\n",
       "    canvas_div.keydown('key_press', canvas_keyboard_event);\n",
       "    canvas_div.keyup('key_release', canvas_keyboard_event);\n",
       "    this.canvas_div = canvas_div\n",
       "    this._canvas_extra_style(canvas_div)\n",
       "    this.root.append(canvas_div);\n",
       "\n",
       "    var canvas = $('<canvas/>');\n",
       "    canvas.addClass('mpl-canvas');\n",
       "    canvas.attr('style', \"left: 0; top: 0; z-index: 0; outline: 0\")\n",
       "\n",
       "    this.canvas = canvas[0];\n",
       "    this.context = canvas[0].getContext(\"2d\");\n",
       "\n",
       "    var backingStore = this.context.backingStorePixelRatio ||\n",
       "\tthis.context.webkitBackingStorePixelRatio ||\n",
       "\tthis.context.mozBackingStorePixelRatio ||\n",
       "\tthis.context.msBackingStorePixelRatio ||\n",
       "\tthis.context.oBackingStorePixelRatio ||\n",
       "\tthis.context.backingStorePixelRatio || 1;\n",
       "\n",
       "    mpl.ratio = (window.devicePixelRatio || 1) / backingStore;\n",
       "\n",
       "    var rubberband = $('<canvas/>');\n",
       "    rubberband.attr('style', \"position: absolute; left: 0; top: 0; z-index: 1;\")\n",
       "\n",
       "    var pass_mouse_events = true;\n",
       "\n",
       "    canvas_div.resizable({\n",
       "        start: function(event, ui) {\n",
       "            pass_mouse_events = false;\n",
       "        },\n",
       "        resize: function(event, ui) {\n",
       "            fig.request_resize(ui.size.width, ui.size.height);\n",
       "        },\n",
       "        stop: function(event, ui) {\n",
       "            pass_mouse_events = true;\n",
       "            fig.request_resize(ui.size.width, ui.size.height);\n",
       "        },\n",
       "    });\n",
       "\n",
       "    function mouse_event_fn(event) {\n",
       "        if (pass_mouse_events)\n",
       "            return fig.mouse_event(event, event['data']);\n",
       "    }\n",
       "\n",
       "    rubberband.mousedown('button_press', mouse_event_fn);\n",
       "    rubberband.mouseup('button_release', mouse_event_fn);\n",
       "    // Throttle sequential mouse events to 1 every 20ms.\n",
       "    rubberband.mousemove('motion_notify', mouse_event_fn);\n",
       "\n",
       "    rubberband.mouseenter('figure_enter', mouse_event_fn);\n",
       "    rubberband.mouseleave('figure_leave', mouse_event_fn);\n",
       "\n",
       "    canvas_div.on(\"wheel\", function (event) {\n",
       "        event = event.originalEvent;\n",
       "        event['data'] = 'scroll'\n",
       "        if (event.deltaY < 0) {\n",
       "            event.step = 1;\n",
       "        } else {\n",
       "            event.step = -1;\n",
       "        }\n",
       "        mouse_event_fn(event);\n",
       "    });\n",
       "\n",
       "    canvas_div.append(canvas);\n",
       "    canvas_div.append(rubberband);\n",
       "\n",
       "    this.rubberband = rubberband;\n",
       "    this.rubberband_canvas = rubberband[0];\n",
       "    this.rubberband_context = rubberband[0].getContext(\"2d\");\n",
       "    this.rubberband_context.strokeStyle = \"#000000\";\n",
       "\n",
       "    this._resize_canvas = function(width, height) {\n",
       "        // Keep the size of the canvas, canvas container, and rubber band\n",
       "        // canvas in synch.\n",
       "        canvas_div.css('width', width)\n",
       "        canvas_div.css('height', height)\n",
       "\n",
       "        canvas.attr('width', width * mpl.ratio);\n",
       "        canvas.attr('height', height * mpl.ratio);\n",
       "        canvas.attr('style', 'width: ' + width + 'px; height: ' + height + 'px;');\n",
       "\n",
       "        rubberband.attr('width', width);\n",
       "        rubberband.attr('height', height);\n",
       "    }\n",
       "\n",
       "    // Set the figure to an initial 600x600px, this will subsequently be updated\n",
       "    // upon first draw.\n",
       "    this._resize_canvas(600, 600);\n",
       "\n",
       "    // Disable right mouse context menu.\n",
       "    $(this.rubberband_canvas).bind(\"contextmenu\",function(e){\n",
       "        return false;\n",
       "    });\n",
       "\n",
       "    function set_focus () {\n",
       "        canvas.focus();\n",
       "        canvas_div.focus();\n",
       "    }\n",
       "\n",
       "    window.setTimeout(set_focus, 100);\n",
       "}\n",
       "\n",
       "mpl.figure.prototype._init_toolbar = function() {\n",
       "    var fig = this;\n",
       "\n",
       "    var nav_element = $('<div/>')\n",
       "    nav_element.attr('style', 'width: 100%');\n",
       "    this.root.append(nav_element);\n",
       "\n",
       "    // Define a callback function for later on.\n",
       "    function toolbar_event(event) {\n",
       "        return fig.toolbar_button_onclick(event['data']);\n",
       "    }\n",
       "    function toolbar_mouse_event(event) {\n",
       "        return fig.toolbar_button_onmouseover(event['data']);\n",
       "    }\n",
       "\n",
       "    for(var toolbar_ind in mpl.toolbar_items) {\n",
       "        var name = mpl.toolbar_items[toolbar_ind][0];\n",
       "        var tooltip = mpl.toolbar_items[toolbar_ind][1];\n",
       "        var image = mpl.toolbar_items[toolbar_ind][2];\n",
       "        var method_name = mpl.toolbar_items[toolbar_ind][3];\n",
       "\n",
       "        if (!name) {\n",
       "            // put a spacer in here.\n",
       "            continue;\n",
       "        }\n",
       "        var button = $('<button/>');\n",
       "        button.addClass('ui-button ui-widget ui-state-default ui-corner-all ' +\n",
       "                        'ui-button-icon-only');\n",
       "        button.attr('role', 'button');\n",
       "        button.attr('aria-disabled', 'false');\n",
       "        button.click(method_name, toolbar_event);\n",
       "        button.mouseover(tooltip, toolbar_mouse_event);\n",
       "\n",
       "        var icon_img = $('<span/>');\n",
       "        icon_img.addClass('ui-button-icon-primary ui-icon');\n",
       "        icon_img.addClass(image);\n",
       "        icon_img.addClass('ui-corner-all');\n",
       "\n",
       "        var tooltip_span = $('<span/>');\n",
       "        tooltip_span.addClass('ui-button-text');\n",
       "        tooltip_span.html(tooltip);\n",
       "\n",
       "        button.append(icon_img);\n",
       "        button.append(tooltip_span);\n",
       "\n",
       "        nav_element.append(button);\n",
       "    }\n",
       "\n",
       "    var fmt_picker_span = $('<span/>');\n",
       "\n",
       "    var fmt_picker = $('<select/>');\n",
       "    fmt_picker.addClass('mpl-toolbar-option ui-widget ui-widget-content');\n",
       "    fmt_picker_span.append(fmt_picker);\n",
       "    nav_element.append(fmt_picker_span);\n",
       "    this.format_dropdown = fmt_picker[0];\n",
       "\n",
       "    for (var ind in mpl.extensions) {\n",
       "        var fmt = mpl.extensions[ind];\n",
       "        var option = $(\n",
       "            '<option/>', {selected: fmt === mpl.default_extension}).html(fmt);\n",
       "        fmt_picker.append(option)\n",
       "    }\n",
       "\n",
       "    // Add hover states to the ui-buttons\n",
       "    $( \".ui-button\" ).hover(\n",
       "        function() { $(this).addClass(\"ui-state-hover\");},\n",
       "        function() { $(this).removeClass(\"ui-state-hover\");}\n",
       "    );\n",
       "\n",
       "    var status_bar = $('<span class=\"mpl-message\"/>');\n",
       "    nav_element.append(status_bar);\n",
       "    this.message = status_bar[0];\n",
       "}\n",
       "\n",
       "mpl.figure.prototype.request_resize = function(x_pixels, y_pixels) {\n",
       "    // Request matplotlib to resize the figure. Matplotlib will then trigger a resize in the client,\n",
       "    // which will in turn request a refresh of the image.\n",
       "    this.send_message('resize', {'width': x_pixels, 'height': y_pixels});\n",
       "}\n",
       "\n",
       "mpl.figure.prototype.send_message = function(type, properties) {\n",
       "    properties['type'] = type;\n",
       "    properties['figure_id'] = this.id;\n",
       "    this.ws.send(JSON.stringify(properties));\n",
       "}\n",
       "\n",
       "mpl.figure.prototype.send_draw_message = function() {\n",
       "    if (!this.waiting) {\n",
       "        this.waiting = true;\n",
       "        this.ws.send(JSON.stringify({type: \"draw\", figure_id: this.id}));\n",
       "    }\n",
       "}\n",
       "\n",
       "\n",
       "mpl.figure.prototype.handle_save = function(fig, msg) {\n",
       "    var format_dropdown = fig.format_dropdown;\n",
       "    var format = format_dropdown.options[format_dropdown.selectedIndex].value;\n",
       "    fig.ondownload(fig, format);\n",
       "}\n",
       "\n",
       "\n",
       "mpl.figure.prototype.handle_resize = function(fig, msg) {\n",
       "    var size = msg['size'];\n",
       "    if (size[0] != fig.canvas.width || size[1] != fig.canvas.height) {\n",
       "        fig._resize_canvas(size[0], size[1]);\n",
       "        fig.send_message(\"refresh\", {});\n",
       "    };\n",
       "}\n",
       "\n",
       "mpl.figure.prototype.handle_rubberband = function(fig, msg) {\n",
       "    var x0 = msg['x0'] / mpl.ratio;\n",
       "    var y0 = (fig.canvas.height - msg['y0']) / mpl.ratio;\n",
       "    var x1 = msg['x1'] / mpl.ratio;\n",
       "    var y1 = (fig.canvas.height - msg['y1']) / mpl.ratio;\n",
       "    x0 = Math.floor(x0) + 0.5;\n",
       "    y0 = Math.floor(y0) + 0.5;\n",
       "    x1 = Math.floor(x1) + 0.5;\n",
       "    y1 = Math.floor(y1) + 0.5;\n",
       "    var min_x = Math.min(x0, x1);\n",
       "    var min_y = Math.min(y0, y1);\n",
       "    var width = Math.abs(x1 - x0);\n",
       "    var height = Math.abs(y1 - y0);\n",
       "\n",
       "    fig.rubberband_context.clearRect(\n",
       "        0, 0, fig.canvas.width, fig.canvas.height);\n",
       "\n",
       "    fig.rubberband_context.strokeRect(min_x, min_y, width, height);\n",
       "}\n",
       "\n",
       "mpl.figure.prototype.handle_figure_label = function(fig, msg) {\n",
       "    // Updates the figure title.\n",
       "    fig.header.textContent = msg['label'];\n",
       "}\n",
       "\n",
       "mpl.figure.prototype.handle_cursor = function(fig, msg) {\n",
       "    var cursor = msg['cursor'];\n",
       "    switch(cursor)\n",
       "    {\n",
       "    case 0:\n",
       "        cursor = 'pointer';\n",
       "        break;\n",
       "    case 1:\n",
       "        cursor = 'default';\n",
       "        break;\n",
       "    case 2:\n",
       "        cursor = 'crosshair';\n",
       "        break;\n",
       "    case 3:\n",
       "        cursor = 'move';\n",
       "        break;\n",
       "    }\n",
       "    fig.rubberband_canvas.style.cursor = cursor;\n",
       "}\n",
       "\n",
       "mpl.figure.prototype.handle_message = function(fig, msg) {\n",
       "    fig.message.textContent = msg['message'];\n",
       "}\n",
       "\n",
       "mpl.figure.prototype.handle_draw = function(fig, msg) {\n",
       "    // Request the server to send over a new figure.\n",
       "    fig.send_draw_message();\n",
       "}\n",
       "\n",
       "mpl.figure.prototype.handle_image_mode = function(fig, msg) {\n",
       "    fig.image_mode = msg['mode'];\n",
       "}\n",
       "\n",
       "mpl.figure.prototype.updated_canvas_event = function() {\n",
       "    // Called whenever the canvas gets updated.\n",
       "    this.send_message(\"ack\", {});\n",
       "}\n",
       "\n",
       "// A function to construct a web socket function for onmessage handling.\n",
       "// Called in the figure constructor.\n",
       "mpl.figure.prototype._make_on_message_function = function(fig) {\n",
       "    return function socket_on_message(evt) {\n",
       "        if (evt.data instanceof Blob) {\n",
       "            /* FIXME: We get \"Resource interpreted as Image but\n",
       "             * transferred with MIME type text/plain:\" errors on\n",
       "             * Chrome.  But how to set the MIME type?  It doesn't seem\n",
       "             * to be part of the websocket stream */\n",
       "            evt.data.type = \"image/png\";\n",
       "\n",
       "            /* Free the memory for the previous frames */\n",
       "            if (fig.imageObj.src) {\n",
       "                (window.URL || window.webkitURL).revokeObjectURL(\n",
       "                    fig.imageObj.src);\n",
       "            }\n",
       "\n",
       "            fig.imageObj.src = (window.URL || window.webkitURL).createObjectURL(\n",
       "                evt.data);\n",
       "            fig.updated_canvas_event();\n",
       "            fig.waiting = false;\n",
       "            return;\n",
       "        }\n",
       "        else if (typeof evt.data === 'string' && evt.data.slice(0, 21) == \"data:image/png;base64\") {\n",
       "            fig.imageObj.src = evt.data;\n",
       "            fig.updated_canvas_event();\n",
       "            fig.waiting = false;\n",
       "            return;\n",
       "        }\n",
       "\n",
       "        var msg = JSON.parse(evt.data);\n",
       "        var msg_type = msg['type'];\n",
       "\n",
       "        // Call the  \"handle_{type}\" callback, which takes\n",
       "        // the figure and JSON message as its only arguments.\n",
       "        try {\n",
       "            var callback = fig[\"handle_\" + msg_type];\n",
       "        } catch (e) {\n",
       "            console.log(\"No handler for the '\" + msg_type + \"' message type: \", msg);\n",
       "            return;\n",
       "        }\n",
       "\n",
       "        if (callback) {\n",
       "            try {\n",
       "                // console.log(\"Handling '\" + msg_type + \"' message: \", msg);\n",
       "                callback(fig, msg);\n",
       "            } catch (e) {\n",
       "                console.log(\"Exception inside the 'handler_\" + msg_type + \"' callback:\", e, e.stack, msg);\n",
       "            }\n",
       "        }\n",
       "    };\n",
       "}\n",
       "\n",
       "// from http://stackoverflow.com/questions/1114465/getting-mouse-location-in-canvas\n",
       "mpl.findpos = function(e) {\n",
       "    //this section is from http://www.quirksmode.org/js/events_properties.html\n",
       "    var targ;\n",
       "    if (!e)\n",
       "        e = window.event;\n",
       "    if (e.target)\n",
       "        targ = e.target;\n",
       "    else if (e.srcElement)\n",
       "        targ = e.srcElement;\n",
       "    if (targ.nodeType == 3) // defeat Safari bug\n",
       "        targ = targ.parentNode;\n",
       "\n",
       "    // jQuery normalizes the pageX and pageY\n",
       "    // pageX,Y are the mouse positions relative to the document\n",
       "    // offset() returns the position of the element relative to the document\n",
       "    var x = e.pageX - $(targ).offset().left;\n",
       "    var y = e.pageY - $(targ).offset().top;\n",
       "\n",
       "    return {\"x\": x, \"y\": y};\n",
       "};\n",
       "\n",
       "/*\n",
       " * return a copy of an object with only non-object keys\n",
       " * we need this to avoid circular references\n",
       " * http://stackoverflow.com/a/24161582/3208463\n",
       " */\n",
       "function simpleKeys (original) {\n",
       "  return Object.keys(original).reduce(function (obj, key) {\n",
       "    if (typeof original[key] !== 'object')\n",
       "        obj[key] = original[key]\n",
       "    return obj;\n",
       "  }, {});\n",
       "}\n",
       "\n",
       "mpl.figure.prototype.mouse_event = function(event, name) {\n",
       "    var canvas_pos = mpl.findpos(event)\n",
       "\n",
       "    if (name === 'button_press')\n",
       "    {\n",
       "        this.canvas.focus();\n",
       "        this.canvas_div.focus();\n",
       "    }\n",
       "\n",
       "    var x = canvas_pos.x * mpl.ratio;\n",
       "    var y = canvas_pos.y * mpl.ratio;\n",
       "\n",
       "    this.send_message(name, {x: x, y: y, button: event.button,\n",
       "                             step: event.step,\n",
       "                             guiEvent: simpleKeys(event)});\n",
       "\n",
       "    /* This prevents the web browser from automatically changing to\n",
       "     * the text insertion cursor when the button is pressed.  We want\n",
       "     * to control all of the cursor setting manually through the\n",
       "     * 'cursor' event from matplotlib */\n",
       "    event.preventDefault();\n",
       "    return false;\n",
       "}\n",
       "\n",
       "mpl.figure.prototype._key_event_extra = function(event, name) {\n",
       "    // Handle any extra behaviour associated with a key event\n",
       "}\n",
       "\n",
       "mpl.figure.prototype.key_event = function(event, name) {\n",
       "\n",
       "    // Prevent repeat events\n",
       "    if (name == 'key_press')\n",
       "    {\n",
       "        if (event.which === this._key)\n",
       "            return;\n",
       "        else\n",
       "            this._key = event.which;\n",
       "    }\n",
       "    if (name == 'key_release')\n",
       "        this._key = null;\n",
       "\n",
       "    var value = '';\n",
       "    if (event.ctrlKey && event.which != 17)\n",
       "        value += \"ctrl+\";\n",
       "    if (event.altKey && event.which != 18)\n",
       "        value += \"alt+\";\n",
       "    if (event.shiftKey && event.which != 16)\n",
       "        value += \"shift+\";\n",
       "\n",
       "    value += 'k';\n",
       "    value += event.which.toString();\n",
       "\n",
       "    this._key_event_extra(event, name);\n",
       "\n",
       "    this.send_message(name, {key: value,\n",
       "                             guiEvent: simpleKeys(event)});\n",
       "    return false;\n",
       "}\n",
       "\n",
       "mpl.figure.prototype.toolbar_button_onclick = function(name) {\n",
       "    if (name == 'download') {\n",
       "        this.handle_save(this, null);\n",
       "    } else {\n",
       "        this.send_message(\"toolbar_button\", {name: name});\n",
       "    }\n",
       "};\n",
       "\n",
       "mpl.figure.prototype.toolbar_button_onmouseover = function(tooltip) {\n",
       "    this.message.textContent = tooltip;\n",
       "};\n",
       "mpl.toolbar_items = [[\"Home\", \"Reset original view\", \"fa fa-home icon-home\", \"home\"], [\"Back\", \"Back to previous view\", \"fa fa-arrow-left icon-arrow-left\", \"back\"], [\"Forward\", \"Forward to next view\", \"fa fa-arrow-right icon-arrow-right\", \"forward\"], [\"\", \"\", \"\", \"\"], [\"Pan\", \"Pan axes with left mouse, zoom with right\", \"fa fa-arrows icon-move\", \"pan\"], [\"Zoom\", \"Zoom to rectangle\", \"fa fa-square-o icon-check-empty\", \"zoom\"], [\"\", \"\", \"\", \"\"], [\"Download\", \"Download plot\", \"fa fa-floppy-o icon-save\", \"download\"]];\n",
       "\n",
       "mpl.extensions = [\"eps\", \"jpeg\", \"pdf\", \"png\", \"ps\", \"raw\", \"svg\", \"tif\"];\n",
       "\n",
       "mpl.default_extension = \"png\";var comm_websocket_adapter = function(comm) {\n",
       "    // Create a \"websocket\"-like object which calls the given IPython comm\n",
       "    // object with the appropriate methods. Currently this is a non binary\n",
       "    // socket, so there is still some room for performance tuning.\n",
       "    var ws = {};\n",
       "\n",
       "    ws.close = function() {\n",
       "        comm.close()\n",
       "    };\n",
       "    ws.send = function(m) {\n",
       "        //console.log('sending', m);\n",
       "        comm.send(m);\n",
       "    };\n",
       "    // Register the callback with on_msg.\n",
       "    comm.on_msg(function(msg) {\n",
       "        //console.log('receiving', msg['content']['data'], msg);\n",
       "        // Pass the mpl event to the overridden (by mpl) onmessage function.\n",
       "        ws.onmessage(msg['content']['data'])\n",
       "    });\n",
       "    return ws;\n",
       "}\n",
       "\n",
       "mpl.mpl_figure_comm = function(comm, msg) {\n",
       "    // This is the function which gets called when the mpl process\n",
       "    // starts-up an IPython Comm through the \"matplotlib\" channel.\n",
       "\n",
       "    var id = msg.content.data.id;\n",
       "    // Get hold of the div created by the display call when the Comm\n",
       "    // socket was opened in Python.\n",
       "    var element = $(\"#\" + id);\n",
       "    var ws_proxy = comm_websocket_adapter(comm)\n",
       "\n",
       "    function ondownload(figure, format) {\n",
       "        window.open(figure.imageObj.src);\n",
       "    }\n",
       "\n",
       "    var fig = new mpl.figure(id, ws_proxy,\n",
       "                           ondownload,\n",
       "                           element.get(0));\n",
       "\n",
       "    // Call onopen now - mpl needs it, as it is assuming we've passed it a real\n",
       "    // web socket which is closed, not our websocket->open comm proxy.\n",
       "    ws_proxy.onopen();\n",
       "\n",
       "    fig.parent_element = element.get(0);\n",
       "    fig.cell_info = mpl.find_output_cell(\"<div id='\" + id + \"'></div>\");\n",
       "    if (!fig.cell_info) {\n",
       "        console.error(\"Failed to find cell for figure\", id, fig);\n",
       "        return;\n",
       "    }\n",
       "\n",
       "    var output_index = fig.cell_info[2]\n",
       "    var cell = fig.cell_info[0];\n",
       "\n",
       "};\n",
       "\n",
       "mpl.figure.prototype.handle_close = function(fig, msg) {\n",
       "    var width = fig.canvas.width/mpl.ratio\n",
       "    fig.root.unbind('remove')\n",
       "\n",
       "    // Update the output cell to use the data from the current canvas.\n",
       "    fig.push_to_output();\n",
       "    var dataURL = fig.canvas.toDataURL();\n",
       "    // Re-enable the keyboard manager in IPython - without this line, in FF,\n",
       "    // the notebook keyboard shortcuts fail.\n",
       "    IPython.keyboard_manager.enable()\n",
       "    $(fig.parent_element).html('<img src=\"' + dataURL + '\" width=\"' + width + '\">');\n",
       "    fig.close_ws(fig, msg);\n",
       "}\n",
       "\n",
       "mpl.figure.prototype.close_ws = function(fig, msg){\n",
       "    fig.send_message('closing', msg);\n",
       "    // fig.ws.close()\n",
       "}\n",
       "\n",
       "mpl.figure.prototype.push_to_output = function(remove_interactive) {\n",
       "    // Turn the data on the canvas into data in the output cell.\n",
       "    var width = this.canvas.width/mpl.ratio\n",
       "    var dataURL = this.canvas.toDataURL();\n",
       "    this.cell_info[1]['text/html'] = '<img src=\"' + dataURL + '\" width=\"' + width + '\">';\n",
       "}\n",
       "\n",
       "mpl.figure.prototype.updated_canvas_event = function() {\n",
       "    // Tell IPython that the notebook contents must change.\n",
       "    IPython.notebook.set_dirty(true);\n",
       "    this.send_message(\"ack\", {});\n",
       "    var fig = this;\n",
       "    // Wait a second, then push the new image to the DOM so\n",
       "    // that it is saved nicely (might be nice to debounce this).\n",
       "    setTimeout(function () { fig.push_to_output() }, 1000);\n",
       "}\n",
       "\n",
       "mpl.figure.prototype._init_toolbar = function() {\n",
       "    var fig = this;\n",
       "\n",
       "    var nav_element = $('<div/>')\n",
       "    nav_element.attr('style', 'width: 100%');\n",
       "    this.root.append(nav_element);\n",
       "\n",
       "    // Define a callback function for later on.\n",
       "    function toolbar_event(event) {\n",
       "        return fig.toolbar_button_onclick(event['data']);\n",
       "    }\n",
       "    function toolbar_mouse_event(event) {\n",
       "        return fig.toolbar_button_onmouseover(event['data']);\n",
       "    }\n",
       "\n",
       "    for(var toolbar_ind in mpl.toolbar_items){\n",
       "        var name = mpl.toolbar_items[toolbar_ind][0];\n",
       "        var tooltip = mpl.toolbar_items[toolbar_ind][1];\n",
       "        var image = mpl.toolbar_items[toolbar_ind][2];\n",
       "        var method_name = mpl.toolbar_items[toolbar_ind][3];\n",
       "\n",
       "        if (!name) { continue; };\n",
       "\n",
       "        var button = $('<button class=\"btn btn-default\" href=\"#\" title=\"' + name + '\"><i class=\"fa ' + image + ' fa-lg\"></i></button>');\n",
       "        button.click(method_name, toolbar_event);\n",
       "        button.mouseover(tooltip, toolbar_mouse_event);\n",
       "        nav_element.append(button);\n",
       "    }\n",
       "\n",
       "    // Add the status bar.\n",
       "    var status_bar = $('<span class=\"mpl-message\" style=\"text-align:right; float: right;\"/>');\n",
       "    nav_element.append(status_bar);\n",
       "    this.message = status_bar[0];\n",
       "\n",
       "    // Add the close button to the window.\n",
       "    var buttongrp = $('<div class=\"btn-group inline pull-right\"></div>');\n",
       "    var button = $('<button class=\"btn btn-mini btn-primary\" href=\"#\" title=\"Stop Interaction\"><i class=\"fa fa-power-off icon-remove icon-large\"></i></button>');\n",
       "    button.click(function (evt) { fig.handle_close(fig, {}); } );\n",
       "    button.mouseover('Stop Interaction', toolbar_mouse_event);\n",
       "    buttongrp.append(button);\n",
       "    var titlebar = this.root.find($('.ui-dialog-titlebar'));\n",
       "    titlebar.prepend(buttongrp);\n",
       "}\n",
       "\n",
       "mpl.figure.prototype._root_extra_style = function(el){\n",
       "    var fig = this\n",
       "    el.on(\"remove\", function(){\n",
       "\tfig.close_ws(fig, {});\n",
       "    });\n",
       "}\n",
       "\n",
       "mpl.figure.prototype._canvas_extra_style = function(el){\n",
       "    // this is important to make the div 'focusable\n",
       "    el.attr('tabindex', 0)\n",
       "    // reach out to IPython and tell the keyboard manager to turn it's self\n",
       "    // off when our div gets focus\n",
       "\n",
       "    // location in version 3\n",
       "    if (IPython.notebook.keyboard_manager) {\n",
       "        IPython.notebook.keyboard_manager.register_events(el);\n",
       "    }\n",
       "    else {\n",
       "        // location in version 2\n",
       "        IPython.keyboard_manager.register_events(el);\n",
       "    }\n",
       "\n",
       "}\n",
       "\n",
       "mpl.figure.prototype._key_event_extra = function(event, name) {\n",
       "    var manager = IPython.notebook.keyboard_manager;\n",
       "    if (!manager)\n",
       "        manager = IPython.keyboard_manager;\n",
       "\n",
       "    // Check for shift+enter\n",
       "    if (event.shiftKey && event.which == 13) {\n",
       "        this.canvas_div.blur();\n",
       "        event.shiftKey = false;\n",
       "        // Send a \"J\" for go to next cell\n",
       "        event.which = 74;\n",
       "        event.keyCode = 74;\n",
       "        manager.command_mode();\n",
       "        manager.handle_keydown(event);\n",
       "    }\n",
       "}\n",
       "\n",
       "mpl.figure.prototype.handle_save = function(fig, msg) {\n",
       "    fig.ondownload(fig, null);\n",
       "}\n",
       "\n",
       "\n",
       "mpl.find_output_cell = function(html_output) {\n",
       "    // Return the cell and output element which can be found *uniquely* in the notebook.\n",
       "    // Note - this is a bit hacky, but it is done because the \"notebook_saving.Notebook\"\n",
       "    // IPython event is triggered only after the cells have been serialised, which for\n",
       "    // our purposes (turning an active figure into a static one), is too late.\n",
       "    var cells = IPython.notebook.get_cells();\n",
       "    var ncells = cells.length;\n",
       "    for (var i=0; i<ncells; i++) {\n",
       "        var cell = cells[i];\n",
       "        if (cell.cell_type === 'code'){\n",
       "            for (var j=0; j<cell.output_area.outputs.length; j++) {\n",
       "                var data = cell.output_area.outputs[j];\n",
       "                if (data.data) {\n",
       "                    // IPython >= 3 moved mimebundle to data attribute of output\n",
       "                    data = data.data;\n",
       "                }\n",
       "                if (data['text/html'] == html_output) {\n",
       "                    return [cell, data, j];\n",
       "                }\n",
       "            }\n",
       "        }\n",
       "    }\n",
       "}\n",
       "\n",
       "// Register the function which deals with the matplotlib target/channel.\n",
       "// The kernel may be null if the page has been refreshed.\n",
       "if (IPython.notebook.kernel != null) {\n",
       "    IPython.notebook.kernel.comm_manager.register_target('matplotlib', mpl.mpl_figure_comm);\n",
       "}\n"
      ],
      "text/plain": [
       "<IPython.core.display.Javascript object>"
      ]
     },
     "metadata": {},
     "output_type": "display_data"
    },
    {
     "data": {
      "text/html": [
       "<img src=\"data:image/png;base64,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\" width=\"432\">"
      ],
      "text/plain": [
       "<IPython.core.display.HTML object>"
      ]
     },
     "metadata": {},
     "output_type": "display_data"
    },
    {
     "data": {
      "text/plain": [
       "<mpl_toolkits.mplot3d.art3d.Path3DCollection at 0x7f1850bd6748>"
      ]
     },
     "execution_count": 100,
     "metadata": {},
     "output_type": "execute_result"
    }
   ],
   "source": [
    "mds_3d = pd.DataFrame(mds_3d, index=data_matrix.index, columns=['x', 'y', 'z'])\n",
    "\n",
    "fig = plt.figure()\n",
    "ax = Axes3D(fig)\n",
    "ax.scatter(mds_3d['x'], mds_3d['y'], mds_3d['z'])"
   ]
  },
  {
   "cell_type": "markdown",
   "metadata": {},
   "source": [
    "# XGboost"
   ]
  },
  {
   "cell_type": "code",
   "execution_count": 4,
   "metadata": {
    "ExecuteTime": {
     "end_time": "2019-05-26T10:28:47.291659Z",
     "start_time": "2019-05-26T10:28:47.277373Z"
    }
   },
   "outputs": [],
   "source": [
    "def spilt_vals(data, proportion):\n",
    "    test = pd.DataFrame()\n",
    "    for i in data.variety.factorize()[1]:\n",
    "        x = data['variety'] == i\n",
    "        valid = data[x]\n",
    "        valid = valid.sample(frac=proportion)\n",
    "        test = test.append(valid)\n",
    "    data = data.drop(test.index)\n",
    "    data = data.reset_index(drop=True)\n",
    "    test = test.reset_index(drop=True)\n",
    "    return data, test"
   ]
  },
  {
   "cell_type": "code",
   "execution_count": 5,
   "metadata": {
    "ExecuteTime": {
     "end_time": "2019-05-26T10:28:47.603694Z",
     "start_time": "2019-05-26T10:28:47.584235Z"
    }
   },
   "outputs": [],
   "source": [
    "def data_matrix(data, words):\n",
    "    '''create data_matrix of 0,1'''\n",
    "    matrix = csr_matrix((len(data), len(words)), dtype=np.int8).toarray()\n",
    "    for i in range(len(data)):\n",
    "        for j in range(len(data['description'][i])):\n",
    "            columns = data['description'][i][j]\n",
    "#             if columns in words:\n",
    "            columns = words.index(columns)\n",
    "            matrix[i, columns] = 1\n",
    "    return matrix"
   ]
  },
  {
   "cell_type": "markdown",
   "metadata": {},
   "source": [
    "## binary"
   ]
  },
  {
   "cell_type": "code",
   "execution_count": 7,
   "metadata": {
    "ExecuteTime": {
     "end_time": "2019-05-26T10:28:58.058606Z",
     "start_time": "2019-05-26T10:28:56.373500Z"
    }
   },
   "outputs": [],
   "source": [
    "drop_con_variety = df.variety.value_counts(\n",
    ")[df.variety.value_counts() <= 10000].index\n",
    "\n",
    "data = df\n",
    "data_variety = drop('variety', drop_con_variety, df, data)"
   ]
  },
  {
   "cell_type": "code",
   "execution_count": 8,
   "metadata": {
    "ExecuteTime": {
     "end_time": "2019-05-26T10:28:58.136630Z",
     "start_time": "2019-05-26T10:28:58.124997Z"
    }
   },
   "outputs": [],
   "source": [
    "df = data_variety.copy()"
   ]
  },
  {
   "cell_type": "code",
   "execution_count": 19,
   "metadata": {
    "ExecuteTime": {
     "end_time": "2019-05-12T10:59:23.851123Z",
     "start_time": "2019-05-12T10:59:23.832593Z"
    }
   },
   "outputs": [
    {
     "name": "stdout",
     "output_type": "stream",
     "text": [
      "Training Error: 0.03\n",
      "Testing Error: 0.03\n"
     ]
    }
   ],
   "source": [
    "from sklearn.metrics import accuracy_score\n",
    "\n",
    "print(\"Training Error: %.2f\" % (1 - accuracy_score(y_train, train_pred)))\n",
    "print(\"Testing Error: %.2f\" % (1 - accuracy_score(y_test, test_pred)))\n"
   ]
  },
  {
   "cell_type": "markdown",
   "metadata": {
    "heading_collapsed": true
   },
   "source": [
    "## six"
   ]
  },
  {
   "cell_type": "code",
   "execution_count": 162,
   "metadata": {
    "ExecuteTime": {
     "end_time": "2019-05-26T06:14:42.800211Z",
     "start_time": "2019-05-26T06:14:39.589880Z"
    },
    "hidden": true
   },
   "outputs": [],
   "source": [
    "drop_con_variety = df.variety.value_counts()[6:].index\n",
    "\n",
    "data = df\n",
    "data_variety = drop('variety', drop_con_variety, df, data)\n",
    "df = data_variety.copy()"
   ]
  },
  {
   "cell_type": "code",
   "execution_count": 161,
   "metadata": {
    "ExecuteTime": {
     "end_time": "2019-05-26T06:14:37.001677Z",
     "start_time": "2019-05-26T06:14:36.976212Z"
    },
    "hidden": true
   },
   "outputs": [
    {
     "data": {
      "text/plain": [
       "Pinot Noir                        12276\n",
       "Chardonnay                        10865\n",
       "Cabernet Sauvignon                 8833\n",
       "Red Blend                          8237\n",
       "Bordeaux-style Red Blend           6467\n",
       "Riesling                           4773\n",
       "Sauvignon Blanc                    4574\n",
       "Syrah                              3824\n",
       "Rosé                               3220\n",
       "Merlot                             2895\n",
       "Nebbiolo                           2597\n",
       "Zinfandel                          2530\n",
       "Sangiovese                         2458\n",
       "Malbec                             2445\n",
       "Portuguese Red                     2282\n",
       "White Blend                        2178\n",
       "Sparkling Blend                    1971\n",
       "Tempranillo                        1671\n",
       "Rhône-style Red Blend              1343\n",
       "Pinot Gris                         1324\n",
       "Champagne Blend                    1308\n",
       "Cabernet Franc                     1242\n",
       "Grüner Veltliner                   1199\n",
       "Portuguese White                   1057\n",
       "Bordeaux-style White Blend          993\n",
       "Pinot Grigio                        980\n",
       "Gewürztraminer                      940\n",
       "Gamay                               926\n",
       "Viognier                            922\n",
       "Shiraz                              790\n",
       "                                  ...  \n",
       "Zierfandler                          14\n",
       "Grechetto                            14\n",
       "Prieto Picudo                        14\n",
       "Brachetto                            14\n",
       "Shiraz-Grenache                      14\n",
       "Alfrocheiro                          14\n",
       "Malbec-Tannat                        13\n",
       "Pansa Blanca                         13\n",
       "Raboso                               13\n",
       "Gaglioppo                            13\n",
       "Kalecik Karasi                       13\n",
       "Bical                                13\n",
       "White Riesling                       13\n",
       "Viura-Chardonnay                     13\n",
       "Garnacha-Syrah                       12\n",
       "Muscat Blanc                         12\n",
       "Pinot Auxerrois                      12\n",
       "Cabernet-Syrah                       12\n",
       "Viognier-Chardonnay                  12\n",
       "Carignano                            12\n",
       "Cabernet Sauvignon-Tempranillo       12\n",
       "Siria                                11\n",
       "Chenin Blanc-Viognier                11\n",
       "Uva di Troia                         11\n",
       "Counoise                             11\n",
       "Malbec-Cabernet Franc                11\n",
       "Tinta Roriz                          11\n",
       "Tannat-Merlot                        11\n",
       "Roussanne-Viognier                   11\n",
       "Roter Veltliner                      11\n",
       "Name: variety, Length: 276, dtype: int64"
      ]
     },
     "execution_count": 161,
     "metadata": {},
     "output_type": "execute_result"
    }
   ],
   "source": [
    "df.variety.value_counts()"
   ]
  },
  {
   "cell_type": "code",
   "execution_count": 84,
   "metadata": {
    "ExecuteTime": {
     "end_time": "2019-05-12T11:07:01.253184Z",
     "start_time": "2019-05-12T11:07:01.208265Z"
    },
    "hidden": true
   },
   "outputs": [
    {
     "name": "stdout",
     "output_type": "stream",
     "text": [
      "Training Error: 0.20\n",
      "Testing Error: 0.21\n"
     ]
    }
   ],
   "source": [
    "from sklearn.metrics import accuracy_score\n",
    "\n",
    "print(\"Training Error: %.2f\" % (1 - accuracy_score(y_train, train_pred)))\n",
    "print(\"Testing Error: %.2f\" % (1 - accuracy_score(y_test, test_pred)))"
   ]
  },
  {
   "cell_type": "code",
   "execution_count": 27,
   "metadata": {
    "hidden": true,
    "scrolled": true
   },
   "outputs": [
    {
     "data": {
      "text/html": [
       "<div>\n",
       "<style scoped>\n",
       "    .dataframe tbody tr th:only-of-type {\n",
       "        vertical-align: middle;\n",
       "    }\n",
       "\n",
       "    .dataframe tbody tr th {\n",
       "        vertical-align: top;\n",
       "    }\n",
       "\n",
       "    .dataframe thead th {\n",
       "        text-align: right;\n",
       "    }\n",
       "</style>\n",
       "<table border=\"1\" class=\"dataframe\">\n",
       "  <thead>\n",
       "    <tr style=\"text-align: right;\">\n",
       "      <th></th>\n",
       "      <th>Pinot Noir</th>\n",
       "      <th>Chardonnay</th>\n",
       "      <th>Cabernet Sauvignon</th>\n",
       "      <th>Red Blend</th>\n",
       "      <th>Bordeaux-style Red Blend</th>\n",
       "      <th>Riesling</th>\n",
       "    </tr>\n",
       "  </thead>\n",
       "  <tbody>\n",
       "    <tr>\n",
       "      <th>Pinot Noir</th>\n",
       "      <td>3107</td>\n",
       "      <td>168</td>\n",
       "      <td>132</td>\n",
       "      <td>57</td>\n",
       "      <td>214</td>\n",
       "      <td>5</td>\n",
       "    </tr>\n",
       "    <tr>\n",
       "      <th>Chardonnay</th>\n",
       "      <td>10</td>\n",
       "      <td>3193</td>\n",
       "      <td>4</td>\n",
       "      <td>6</td>\n",
       "      <td>5</td>\n",
       "      <td>42</td>\n",
       "    </tr>\n",
       "    <tr>\n",
       "      <th>Cabernet Sauvignon</th>\n",
       "      <td>385</td>\n",
       "      <td>101</td>\n",
       "      <td>1865</td>\n",
       "      <td>176</td>\n",
       "      <td>123</td>\n",
       "      <td>0</td>\n",
       "    </tr>\n",
       "    <tr>\n",
       "      <th>Red Blend</th>\n",
       "      <td>268</td>\n",
       "      <td>65</td>\n",
       "      <td>253</td>\n",
       "      <td>1715</td>\n",
       "      <td>170</td>\n",
       "      <td>0</td>\n",
       "    </tr>\n",
       "    <tr>\n",
       "      <th>Bordeaux-style Red Blend</th>\n",
       "      <td>141</td>\n",
       "      <td>105</td>\n",
       "      <td>162</td>\n",
       "      <td>127</td>\n",
       "      <td>1402</td>\n",
       "      <td>3</td>\n",
       "    </tr>\n",
       "    <tr>\n",
       "      <th>Riesling</th>\n",
       "      <td>13</td>\n",
       "      <td>445</td>\n",
       "      <td>2</td>\n",
       "      <td>0</td>\n",
       "      <td>1</td>\n",
       "      <td>971</td>\n",
       "    </tr>\n",
       "  </tbody>\n",
       "</table>\n",
       "</div>"
      ],
      "text/plain": [
       "                          Pinot Noir  Chardonnay  Cabernet Sauvignon  \\\n",
       "Pinot Noir                      3107         168                 132   \n",
       "Chardonnay                        10        3193                   4   \n",
       "Cabernet Sauvignon               385         101                1865   \n",
       "Red Blend                        268          65                 253   \n",
       "Bordeaux-style Red Blend         141         105                 162   \n",
       "Riesling                          13         445                   2   \n",
       "\n",
       "                          Red Blend  Bordeaux-style Red Blend  Riesling  \n",
       "Pinot Noir                       57                       214         5  \n",
       "Chardonnay                        6                         5        42  \n",
       "Cabernet Sauvignon              176                       123         0  \n",
       "Red Blend                      1715                       170         0  \n",
       "Bordeaux-style Red Blend        127                      1402         3  \n",
       "Riesling                          0                         1       971  "
      ]
     },
     "execution_count": 27,
     "metadata": {},
     "output_type": "execute_result"
    }
   ],
   "source": [
    "confusion"
   ]
  },
  {
   "cell_type": "markdown",
   "metadata": {},
   "source": [
    "## test"
   ]
  },
  {
   "cell_type": "code",
   "execution_count": 16,
   "metadata": {
    "ExecuteTime": {
     "end_time": "2019-05-26T10:36:38.979768Z",
     "start_time": "2019-05-26T10:36:38.935139Z"
    },
    "scrolled": false
   },
   "outputs": [],
   "source": [
    "train, test = spilt_vals(df, 0.3)"
   ]
  },
  {
   "cell_type": "code",
   "execution_count": 10,
   "metadata": {
    "ExecuteTime": {
     "end_time": "2019-05-26T10:30:11.402223Z",
     "start_time": "2019-05-26T10:29:04.998814Z"
    }
   },
   "outputs": [],
   "source": [
    "x_train = data_matrix(train, words)\n",
    "x_test = data_matrix(test, words)\n"
   ]
  },
  {
   "cell_type": "code",
   "execution_count": 11,
   "metadata": {
    "ExecuteTime": {
     "end_time": "2019-05-26T10:30:11.509010Z",
     "start_time": "2019-05-26T10:30:11.499025Z"
    }
   },
   "outputs": [],
   "source": [
    "y_train = np.array(train['labels_variety'])\n",
    "y_test = np.array(test['labels_variety'])"
   ]
  },
  {
   "cell_type": "code",
   "execution_count": 12,
   "metadata": {
    "ExecuteTime": {
     "end_time": "2019-05-26T10:30:12.101354Z",
     "start_time": "2019-05-26T10:30:11.605655Z"
    }
   },
   "outputs": [],
   "source": [
    "dtrain = xgb.DMatrix(x_train, label=y_train)"
   ]
  },
  {
   "cell_type": "code",
   "execution_count": 18,
   "metadata": {
    "ExecuteTime": {
     "end_time": "2019-05-26T10:38:47.757061Z",
     "start_time": "2019-05-26T10:38:21.848536Z"
    }
   },
   "outputs": [],
   "source": [
    "xgb_model = xgb.XGBClassifier(n_job=-1, nthread=8).fit(x_train, y_train)"
   ]
  },
  {
   "cell_type": "code",
   "execution_count": 23,
   "metadata": {
    "ExecuteTime": {
     "end_time": "2019-05-12T07:54:27.656491Z",
     "start_time": "2019-05-12T07:54:26.794233Z"
    }
   },
   "outputs": [],
   "source": [
    "test_pred = xgb_model.predict(x_test)"
   ]
  },
  {
   "cell_type": "code",
   "execution_count": 24,
   "metadata": {
    "ExecuteTime": {
     "end_time": "2019-05-12T07:54:30.137245Z",
     "start_time": "2019-05-12T07:54:28.144624Z"
    }
   },
   "outputs": [],
   "source": [
    "train_pred = xgb_model.predict(x_train)"
   ]
  },
  {
   "cell_type": "code",
   "execution_count": 29,
   "metadata": {},
   "outputs": [],
   "source": [
    "def error(y_hat, y_ture):\n",
    "    count = 0\n",
    "    for i in range(len(y_ture)):\n",
    "        if y_hat[i] != y_ture[i]:\n",
    "            count += 1\n",
    "    return count / len(y_hat)"
   ]
  },
  {
   "cell_type": "code",
   "execution_count": 30,
   "metadata": {
    "scrolled": true
   },
   "outputs": [
    {
     "data": {
      "text/plain": [
       "0.20335971123143134"
      ]
     },
     "execution_count": 30,
     "metadata": {},
     "output_type": "execute_result"
    }
   ],
   "source": [
    "error(y_train, train_pred)"
   ]
  },
  {
   "cell_type": "code",
   "execution_count": 105,
   "metadata": {},
   "outputs": [],
   "source": [
    "np.save('y_test', y_test)"
   ]
  },
  {
   "cell_type": "code",
   "execution_count": 108,
   "metadata": {},
   "outputs": [],
   "source": [
    "np.save('test_pred', test_pred)"
   ]
  },
  {
   "cell_type": "markdown",
   "metadata": {},
   "source": [
    "## confusion_matrix"
   ]
  },
  {
   "cell_type": "code",
   "execution_count": 22,
   "metadata": {},
   "outputs": [],
   "source": [
    "def choose(df, variety):\n",
    "    labels_variety = []\n",
    "    for i in variety:\n",
    "        data = df[df.variety == i]\n",
    "        data = data.reset_index()\n",
    "        labels_variety.append(data.labels_variety[0])\n",
    "    return labels_variety"
   ]
  },
  {
   "cell_type": "code",
   "execution_count": 23,
   "metadata": {},
   "outputs": [],
   "source": [
    "from sklearn.metrics import confusion_matrix"
   ]
  },
  {
   "cell_type": "code",
   "execution_count": 24,
   "metadata": {},
   "outputs": [],
   "source": [
    "labels = choose(df, df.variety.value_counts().index)"
   ]
  },
  {
   "cell_type": "code",
   "execution_count": 25,
   "metadata": {},
   "outputs": [],
   "source": [
    "confusion = confusion_matrix(y_test, test_pred, labels=labels)"
   ]
  },
  {
   "cell_type": "code",
   "execution_count": 26,
   "metadata": {},
   "outputs": [],
   "source": [
    "confusion = pd.DataFrame(confusion, index=df.variety.value_counts().index, columns=df.variety.value_counts().index)"
   ]
  },
  {
   "cell_type": "markdown",
   "metadata": {},
   "source": [
    "row true"
   ]
  },
  {
   "cell_type": "code",
   "execution_count": 27,
   "metadata": {
    "scrolled": true
   },
   "outputs": [
    {
     "data": {
      "text/html": [
       "<div>\n",
       "<style scoped>\n",
       "    .dataframe tbody tr th:only-of-type {\n",
       "        vertical-align: middle;\n",
       "    }\n",
       "\n",
       "    .dataframe tbody tr th {\n",
       "        vertical-align: top;\n",
       "    }\n",
       "\n",
       "    .dataframe thead th {\n",
       "        text-align: right;\n",
       "    }\n",
       "</style>\n",
       "<table border=\"1\" class=\"dataframe\">\n",
       "  <thead>\n",
       "    <tr style=\"text-align: right;\">\n",
       "      <th></th>\n",
       "      <th>Pinot Noir</th>\n",
       "      <th>Chardonnay</th>\n",
       "      <th>Cabernet Sauvignon</th>\n",
       "      <th>Red Blend</th>\n",
       "      <th>Bordeaux-style Red Blend</th>\n",
       "      <th>Riesling</th>\n",
       "    </tr>\n",
       "  </thead>\n",
       "  <tbody>\n",
       "    <tr>\n",
       "      <th>Pinot Noir</th>\n",
       "      <td>3107</td>\n",
       "      <td>168</td>\n",
       "      <td>132</td>\n",
       "      <td>57</td>\n",
       "      <td>214</td>\n",
       "      <td>5</td>\n",
       "    </tr>\n",
       "    <tr>\n",
       "      <th>Chardonnay</th>\n",
       "      <td>10</td>\n",
       "      <td>3193</td>\n",
       "      <td>4</td>\n",
       "      <td>6</td>\n",
       "      <td>5</td>\n",
       "      <td>42</td>\n",
       "    </tr>\n",
       "    <tr>\n",
       "      <th>Cabernet Sauvignon</th>\n",
       "      <td>385</td>\n",
       "      <td>101</td>\n",
       "      <td>1865</td>\n",
       "      <td>176</td>\n",
       "      <td>123</td>\n",
       "      <td>0</td>\n",
       "    </tr>\n",
       "    <tr>\n",
       "      <th>Red Blend</th>\n",
       "      <td>268</td>\n",
       "      <td>65</td>\n",
       "      <td>253</td>\n",
       "      <td>1715</td>\n",
       "      <td>170</td>\n",
       "      <td>0</td>\n",
       "    </tr>\n",
       "    <tr>\n",
       "      <th>Bordeaux-style Red Blend</th>\n",
       "      <td>141</td>\n",
       "      <td>105</td>\n",
       "      <td>162</td>\n",
       "      <td>127</td>\n",
       "      <td>1402</td>\n",
       "      <td>3</td>\n",
       "    </tr>\n",
       "    <tr>\n",
       "      <th>Riesling</th>\n",
       "      <td>13</td>\n",
       "      <td>445</td>\n",
       "      <td>2</td>\n",
       "      <td>0</td>\n",
       "      <td>1</td>\n",
       "      <td>971</td>\n",
       "    </tr>\n",
       "  </tbody>\n",
       "</table>\n",
       "</div>"
      ],
      "text/plain": [
       "                          Pinot Noir  Chardonnay  Cabernet Sauvignon  \\\n",
       "Pinot Noir                      3107         168                 132   \n",
       "Chardonnay                        10        3193                   4   \n",
       "Cabernet Sauvignon               385         101                1865   \n",
       "Red Blend                        268          65                 253   \n",
       "Bordeaux-style Red Blend         141         105                 162   \n",
       "Riesling                          13         445                   2   \n",
       "\n",
       "                          Red Blend  Bordeaux-style Red Blend  Riesling  \n",
       "Pinot Noir                       57                       214         5  \n",
       "Chardonnay                        6                         5        42  \n",
       "Cabernet Sauvignon              176                       123         0  \n",
       "Red Blend                      1715                       170         0  \n",
       "Bordeaux-style Red Blend        127                      1402         3  \n",
       "Riesling                          0                         1       971  "
      ]
     },
     "execution_count": 27,
     "metadata": {},
     "output_type": "execute_result"
    }
   ],
   "source": [
    "confusion"
   ]
  },
  {
   "cell_type": "code",
   "execution_count": 127,
   "metadata": {
    "ExecuteTime": {
     "end_time": "2019-05-15T06:14:54.757098Z",
     "start_time": "2019-05-15T06:14:54.740723Z"
    }
   },
   "outputs": [
    {
     "data": {
      "text/plain": [
       "118576"
      ]
     },
     "execution_count": 127,
     "metadata": {},
     "output_type": "execute_result"
    }
   ],
   "source": [
    "len(df)"
   ]
  },
  {
   "cell_type": "code",
   "execution_count": 157,
   "metadata": {
    "ExecuteTime": {
     "end_time": "2019-05-25T13:14:50.948326Z",
     "start_time": "2019-05-25T13:14:50.932144Z"
    }
   },
   "outputs": [],
   "source": [
    "from sys import getsizeof"
   ]
  },
  {
   "cell_type": "code",
   "execution_count": 160,
   "metadata": {
    "ExecuteTime": {
     "end_time": "2019-05-25T13:15:12.934965Z",
     "start_time": "2019-05-25T13:15:12.849296Z"
    }
   },
   "outputs": [
    {
     "data": {
      "text/plain": [
       "119045835"
      ]
     },
     "execution_count": 160,
     "metadata": {},
     "output_type": "execute_result"
    }
   ],
   "source": [
    "getsizeof(df)"
   ]
  },
  {
   "cell_type": "code",
   "execution_count": null,
   "metadata": {},
   "outputs": [],
   "source": []
  }
 ],
 "metadata": {
  "hide_input": false,
  "kernelspec": {
   "display_name": "Python 3",
   "language": "python",
   "name": "python3"
  },
  "language_info": {
   "codemirror_mode": {
    "name": "ipython",
    "version": 3
   },
   "file_extension": ".py",
   "mimetype": "text/x-python",
   "name": "python",
   "nbconvert_exporter": "python",
   "pygments_lexer": "ipython3",
   "version": "3.6.7"
  },
  "toc": {
   "base_numbering": 1,
   "nav_menu": {},
   "number_sections": true,
   "sideBar": true,
   "skip_h1_title": false,
   "title_cell": "Table of Contents",
   "title_sidebar": "Contents",
   "toc_cell": false,
   "toc_position": {
    "height": "calc(100% - 180px)",
    "left": "10px",
    "top": "150px",
    "width": "165px"
   },
   "toc_section_display": true,
   "toc_window_display": true
  },
  "varInspector": {
   "cols": {
    "lenName": 16,
    "lenType": 16,
    "lenVar": 40
   },
   "kernels_config": {
    "python": {
     "delete_cmd_postfix": "",
     "delete_cmd_prefix": "del ",
     "library": "var_list.py",
     "varRefreshCmd": "print(var_dic_list())"
    },
    "r": {
     "delete_cmd_postfix": ") ",
     "delete_cmd_prefix": "rm(",
     "library": "var_list.r",
     "varRefreshCmd": "cat(var_dic_list()) "
    }
   },
   "types_to_exclude": [
    "module",
    "function",
    "builtin_function_or_method",
    "instance",
    "_Feature"
   ],
   "window_display": false
  }
 },
 "nbformat": 4,
 "nbformat_minor": 2
}
